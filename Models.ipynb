{
 "cells": [
  {
   "cell_type": "markdown",
   "metadata": {},
   "source": [
    "## Spotify Different Models for Recommendation "
   ]
  },
  {
   "cell_type": "markdown",
   "metadata": {},
   "source": [
    "Let's get firstly libraries"
   ]
  },
  {
   "cell_type": "code",
   "execution_count": 1,
   "metadata": {
    "collapsed": true
   },
   "outputs": [],
   "source": [
    "from __future__ import print_function    # (at top of module)\n",
    "from spotipy.oauth2 import SpotifyClientCredentials\n",
    "import spotipy\n",
    "import time\n",
    "import sys\n",
    "import pandas as pd\n",
    "from urllib.request import Request, urlopen\n",
    "import json\n",
    "from bs4 import BeautifulSoup\n",
    "import re\n",
    "import urllib.parse\n",
    "from nltk.corpus import stopwords\n",
    "from TurkishStemmer import TurkishStemmer\n",
    "from difflib import SequenceMatcher\n",
    "from glob import glob\n",
    "import matplotlib.pyplot as plt\n",
    "from sklearn.neighbors import NearestNeighbors\n",
    "from sklearn.preprocessing import StandardScaler\n",
    "from math import pi\n",
    "import sklearn.preprocessing as preprocessing\n",
    "import numpy as np\n",
    "import pickle \n",
    "import warnings\n",
    "from sklearn.feature_extraction.text import TfidfVectorizer\n",
    "from TurkishStemmer import TurkishStemmer\n",
    "warnings.filterwarnings('ignore')\n",
    "pd.set_option('display.max_rows', 10000)\n",
    "pd.options.display.max_colwidth = 10000\n",
    "import subprocess\n",
    "import sys\n"
   ]
  },
  {
   "cell_type": "code",
   "execution_count": 3,
   "metadata": {
    "collapsed": true
   },
   "outputs": [],
   "source": [
    "sys.path.append(\"./helper_updater_codes/\")\n",
    "from matrixExporter import matrixExporter"
   ]
  },
  {
   "cell_type": "code",
   "execution_count": 4,
   "metadata": {
    "collapsed": true
   },
   "outputs": [],
   "source": [
    "\n",
    "links = []\n",
    "\n",
    "cid = 'c95dffd5696043ddaa161badb6f9659d'\n",
    "csec = '7b0b5645d2c44f7ca1f9b9917d23b281'\n",
    "client_credentials_manager = SpotifyClientCredentials(client_id=cid, client_secret=csec)\n",
    "sp = spotipy.Spotify(client_credentials_manager=client_credentials_manager)\n",
    "sp.trace=False\n",
    "\n",
    "def getTID(url): # A function to get Spotify ID from given URL\n",
    "    tid = url.split('/')[-1]\n",
    "    return 'spotify:track:'+tid\n",
    "                    \n",
    "\n",
    "def getSongsDf(artist_name): # A function that get's first 50 (max given by api) songs by the artist. Input: the name of the artist\n",
    "    results = sp.search(q=artist_name, limit=50) # Query \n",
    "    tids = []\n",
    "    for i, t in enumerate(results['tracks']['items']):\n",
    "#         print(' ', i, t['name'])\n",
    "        tids.append(t['uri'])\n",
    "    start = time.time()\n",
    "    features = sp.audio_features(tids)\n",
    "    delta = time.time() - start\n",
    "    songs  = pd.DataFrame(features)\n",
    "    songs['name'] = [d['name'] for d in results['tracks']['items']]\n",
    "    songs['duration_ms'] = [d['duration_ms'] for d in results['tracks']['items']]\n",
    "    songs['artist_name'] = artist_name\n",
    "    return songs"
   ]
  },
  {
   "cell_type": "code",
   "execution_count": 5,
   "metadata": {
    "collapsed": true
   },
   "outputs": [],
   "source": [
    "fields_to_show = ['name', 'acousticness', 'danceability', 'duration_ms', 'energy',\n",
    "       'instrumentalness', 'liveness', 'loudness',\n",
    "       'speechiness', 'tempo', 'valence']\n",
    "feature_list_to_show = ['name', 'artist_name', 'duration_ms',\n",
    "                        'valence', 'acousticness', 'danceability', 'energy',\n",
    "                        'instrumentalness', 'liveness', 'loudness']\n",
    "fields = ['acousticness',\n",
    "         'danceability',\n",
    "         'energy',\n",
    "         'instrumentalness',\n",
    "         'liveness',\n",
    "         'speechiness',\n",
    "         'valence']\n",
    "valence_fields_to_show = ['name','artist_name','valence']\n",
    "valence_fields_to_show_tr = ['Şarkı', 'Sanatçı', 'Mutluluk Değeri']\n",
    "\n",
    "analyzeFeatures = ['acousticness',\n",
    " 'danceability',\n",
    " 'energy',\n",
    " 'instrumentalness',\n",
    " 'liveness',\n",
    " 'loudness',\n",
    " 'speechiness',\n",
    " 'tempo',\n",
    " 'valence']\n"
   ]
  },
  {
   "cell_type": "markdown",
   "metadata": {},
   "source": [
    "Let's create main dataframes "
   ]
  },
  {
   "cell_type": "code",
   "execution_count": 6,
   "metadata": {
    "collapsed": true
   },
   "outputs": [],
   "source": [
    "popularSongFramesFinal = pickle.load(open('.//data//save.p', 'rb'))\n",
    "allSongsRepeated = pd.concat(popularSongFramesFinal, axis = 'rows')\n",
    "allSongsUnique = allSongsRepeated.drop_duplicates('Track Name')\n",
    "allSongsUnique = allSongsUnique.set_index('Track Name')\n",
    "allSongsUnique.to_csv('.//data//uniqueSongs.csv')#Updates saved unique song\n"
   ]
  },
  {
   "cell_type": "code",
   "execution_count": 6,
   "metadata": {
    "collapsed": true
   },
   "outputs": [],
   "source": [
    "lyricsDf = pd.read_csv('.//otherData//uniqueLyrics.csv')[['lyrics', 'lang', 'Track Name']]\n",
    "lyricsDf =lyricsDf.set_index('Track Name')\n",
    "allSongsUnique['lyrics'] = lyricsDf['lyrics']\n",
    "allSongsUnique['lang'] = lyricsDf['lang']"
   ]
  },
  {
   "cell_type": "code",
   "execution_count": 38,
   "metadata": {},
   "outputs": [
    {
     "data": {
      "text/html": [
       "<div>\n",
       "<style scoped>\n",
       "    .dataframe tbody tr th:only-of-type {\n",
       "        vertical-align: middle;\n",
       "    }\n",
       "\n",
       "    .dataframe tbody tr th {\n",
       "        vertical-align: top;\n",
       "    }\n",
       "\n",
       "    .dataframe thead th {\n",
       "        text-align: right;\n",
       "    }\n",
       "</style>\n",
       "<table border=\"1\" class=\"dataframe\">\n",
       "  <thead>\n",
       "    <tr style=\"text-align: right;\">\n",
       "      <th></th>\n",
       "      <th>Artist</th>\n",
       "      <th>Position</th>\n",
       "      <th>Streams</th>\n",
       "      <th>URL</th>\n",
       "      <th>acousticness</th>\n",
       "      <th>analysis_url</th>\n",
       "      <th>danceability</th>\n",
       "      <th>date</th>\n",
       "      <th>duration_ms</th>\n",
       "      <th>energy</th>\n",
       "      <th>...</th>\n",
       "      <th>mode</th>\n",
       "      <th>speechiness</th>\n",
       "      <th>stream_share</th>\n",
       "      <th>tempo</th>\n",
       "      <th>tid</th>\n",
       "      <th>time_signature</th>\n",
       "      <th>track_href</th>\n",
       "      <th>type</th>\n",
       "      <th>uri</th>\n",
       "      <th>valence</th>\n",
       "    </tr>\n",
       "    <tr>\n",
       "      <th>country_origin</th>\n",
       "      <th></th>\n",
       "      <th></th>\n",
       "      <th></th>\n",
       "      <th></th>\n",
       "      <th></th>\n",
       "      <th></th>\n",
       "      <th></th>\n",
       "      <th></th>\n",
       "      <th></th>\n",
       "      <th></th>\n",
       "      <th></th>\n",
       "      <th></th>\n",
       "      <th></th>\n",
       "      <th></th>\n",
       "      <th></th>\n",
       "      <th></th>\n",
       "      <th></th>\n",
       "      <th></th>\n",
       "      <th></th>\n",
       "      <th></th>\n",
       "      <th></th>\n",
       "    </tr>\n",
       "  </thead>\n",
       "  <tbody>\n",
       "    <tr>\n",
       "      <th>ca</th>\n",
       "      <td>226</td>\n",
       "      <td>226</td>\n",
       "      <td>226</td>\n",
       "      <td>226</td>\n",
       "      <td>226</td>\n",
       "      <td>226</td>\n",
       "      <td>226</td>\n",
       "      <td>226</td>\n",
       "      <td>226</td>\n",
       "      <td>226</td>\n",
       "      <td>...</td>\n",
       "      <td>226</td>\n",
       "      <td>226</td>\n",
       "      <td>0</td>\n",
       "      <td>226</td>\n",
       "      <td>226</td>\n",
       "      <td>226</td>\n",
       "      <td>226</td>\n",
       "      <td>226</td>\n",
       "      <td>226</td>\n",
       "      <td>226</td>\n",
       "    </tr>\n",
       "    <tr>\n",
       "      <th>ch</th>\n",
       "      <td>1056</td>\n",
       "      <td>1056</td>\n",
       "      <td>1056</td>\n",
       "      <td>1056</td>\n",
       "      <td>1056</td>\n",
       "      <td>1056</td>\n",
       "      <td>1056</td>\n",
       "      <td>1056</td>\n",
       "      <td>1056</td>\n",
       "      <td>1056</td>\n",
       "      <td>...</td>\n",
       "      <td>1056</td>\n",
       "      <td>1056</td>\n",
       "      <td>0</td>\n",
       "      <td>1056</td>\n",
       "      <td>1056</td>\n",
       "      <td>1056</td>\n",
       "      <td>1056</td>\n",
       "      <td>1056</td>\n",
       "      <td>1056</td>\n",
       "      <td>1056</td>\n",
       "    </tr>\n",
       "    <tr>\n",
       "      <th>gb</th>\n",
       "      <td>1415</td>\n",
       "      <td>1415</td>\n",
       "      <td>1415</td>\n",
       "      <td>1415</td>\n",
       "      <td>1414</td>\n",
       "      <td>1414</td>\n",
       "      <td>1414</td>\n",
       "      <td>1415</td>\n",
       "      <td>1414</td>\n",
       "      <td>1414</td>\n",
       "      <td>...</td>\n",
       "      <td>1414</td>\n",
       "      <td>1414</td>\n",
       "      <td>0</td>\n",
       "      <td>1414</td>\n",
       "      <td>1415</td>\n",
       "      <td>1414</td>\n",
       "      <td>1414</td>\n",
       "      <td>1414</td>\n",
       "      <td>1414</td>\n",
       "      <td>1414</td>\n",
       "    </tr>\n",
       "    <tr>\n",
       "      <th>global</th>\n",
       "      <td>1308</td>\n",
       "      <td>1308</td>\n",
       "      <td>1308</td>\n",
       "      <td>1308</td>\n",
       "      <td>1304</td>\n",
       "      <td>1304</td>\n",
       "      <td>1304</td>\n",
       "      <td>1308</td>\n",
       "      <td>1304</td>\n",
       "      <td>1304</td>\n",
       "      <td>...</td>\n",
       "      <td>1304</td>\n",
       "      <td>1304</td>\n",
       "      <td>0</td>\n",
       "      <td>1304</td>\n",
       "      <td>1308</td>\n",
       "      <td>1304</td>\n",
       "      <td>1304</td>\n",
       "      <td>1304</td>\n",
       "      <td>1304</td>\n",
       "      <td>1304</td>\n",
       "    </tr>\n",
       "    <tr>\n",
       "      <th>tr</th>\n",
       "      <td>1595</td>\n",
       "      <td>1595</td>\n",
       "      <td>1595</td>\n",
       "      <td>1595</td>\n",
       "      <td>1594</td>\n",
       "      <td>1594</td>\n",
       "      <td>1594</td>\n",
       "      <td>1595</td>\n",
       "      <td>1594</td>\n",
       "      <td>1594</td>\n",
       "      <td>...</td>\n",
       "      <td>1594</td>\n",
       "      <td>1594</td>\n",
       "      <td>1595</td>\n",
       "      <td>1594</td>\n",
       "      <td>1595</td>\n",
       "      <td>1594</td>\n",
       "      <td>1594</td>\n",
       "      <td>1594</td>\n",
       "      <td>1594</td>\n",
       "      <td>1594</td>\n",
       "    </tr>\n",
       "    <tr>\n",
       "      <th>us</th>\n",
       "      <td>805</td>\n",
       "      <td>805</td>\n",
       "      <td>805</td>\n",
       "      <td>805</td>\n",
       "      <td>802</td>\n",
       "      <td>802</td>\n",
       "      <td>802</td>\n",
       "      <td>805</td>\n",
       "      <td>802</td>\n",
       "      <td>802</td>\n",
       "      <td>...</td>\n",
       "      <td>802</td>\n",
       "      <td>802</td>\n",
       "      <td>0</td>\n",
       "      <td>802</td>\n",
       "      <td>805</td>\n",
       "      <td>802</td>\n",
       "      <td>802</td>\n",
       "      <td>802</td>\n",
       "      <td>802</td>\n",
       "      <td>802</td>\n",
       "    </tr>\n",
       "  </tbody>\n",
       "</table>\n",
       "<p>6 rows × 26 columns</p>\n",
       "</div>"
      ],
      "text/plain": [
       "                Artist  Position  Streams   URL  acousticness  analysis_url  \\\n",
       "country_origin                                                                \n",
       "ca                 226       226      226   226           226           226   \n",
       "ch                1056      1056     1056  1056          1056          1056   \n",
       "gb                1415      1415     1415  1415          1414          1414   \n",
       "global            1308      1308     1308  1308          1304          1304   \n",
       "tr                1595      1595     1595  1595          1594          1594   \n",
       "us                 805       805      805   805           802           802   \n",
       "\n",
       "                danceability  date  duration_ms  energy   ...     mode  \\\n",
       "country_origin                                            ...            \n",
       "ca                       226   226          226     226   ...      226   \n",
       "ch                      1056  1056         1056    1056   ...     1056   \n",
       "gb                      1414  1415         1414    1414   ...     1414   \n",
       "global                  1304  1308         1304    1304   ...     1304   \n",
       "tr                      1594  1595         1594    1594   ...     1594   \n",
       "us                       802   805          802     802   ...      802   \n",
       "\n",
       "                speechiness  stream_share  tempo   tid  time_signature  \\\n",
       "country_origin                                                           \n",
       "ca                      226             0    226   226             226   \n",
       "ch                     1056             0   1056  1056            1056   \n",
       "gb                     1414             0   1414  1415            1414   \n",
       "global                 1304             0   1304  1308            1304   \n",
       "tr                     1594          1595   1594  1595            1594   \n",
       "us                      802             0    802   805             802   \n",
       "\n",
       "                track_href  type   uri  valence  \n",
       "country_origin                                   \n",
       "ca                     226   226   226      226  \n",
       "ch                    1056  1056  1056     1056  \n",
       "gb                    1414  1414  1414     1414  \n",
       "global                1304  1304  1304     1304  \n",
       "tr                    1594  1594  1594     1594  \n",
       "us                     802   802   802      802  \n",
       "\n",
       "[6 rows x 26 columns]"
      ]
     },
     "execution_count": 38,
     "metadata": {},
     "output_type": "execute_result"
    }
   ],
   "source": [
    "allSongsUnique.groupby('country_origin').count()"
   ]
  },
  {
   "cell_type": "code",
   "execution_count": 7,
   "metadata": {
    "scrolled": true
   },
   "outputs": [
    {
     "data": {
      "text/plain": [
       "1595"
      ]
     },
     "execution_count": 7,
     "metadata": {},
     "output_type": "execute_result"
    }
   ],
   "source": [
    "len(lyricsDf)"
   ]
  },
  {
   "cell_type": "code",
   "execution_count": 10,
   "metadata": {},
   "outputs": [
    {
     "data": {
      "text/plain": [
       "1595"
      ]
     },
     "execution_count": 10,
     "metadata": {},
     "output_type": "execute_result"
    }
   ],
   "source": [
    "len(allSongsUnique[allSongsUnique['country_origin'] == 'tr'])"
   ]
  },
  {
   "cell_type": "code",
   "execution_count": 9,
   "metadata": {},
   "outputs": [
    {
     "name": "stdout",
     "output_type": "stream",
     "text": [
      "in total there are 1595 different songs\n"
     ]
    }
   ],
   "source": [
    "print('in total there are {0} different songs'.format(len(allSongsUnique)))"
   ]
  },
  {
   "cell_type": "code",
   "execution_count": 10,
   "metadata": {},
   "outputs": [
    {
     "name": "stdout",
     "output_type": "stream",
     "text": [
      "the labels are: \n"
     ]
    },
    {
     "data": {
      "text/plain": [
       "Index(['Artist', 'Position', 'Streams', 'Track Name', 'URL', 'acousticness',\n",
       "       'analysis_url', 'danceability', 'date', 'duration_ms', 'energy', 'id',\n",
       "       'instrumentalness', 'key', 'list_origin', 'liveness', 'loudness',\n",
       "       'mode', 'speechiness', 'stream_share', 'tempo', 'tid', 'time_signature',\n",
       "       'track_href', 'type', 'uri', 'valence'],\n",
       "      dtype='object')"
      ]
     },
     "execution_count": 10,
     "metadata": {},
     "output_type": "execute_result"
    }
   ],
   "source": [
    "print('the labels are: ')\n",
    "allSongsRepeated.columns"
   ]
  },
  {
   "cell_type": "markdown",
   "metadata": {},
   "source": [
    "## PART I) Prediction of the nearest popular song of a query song (in terms of musicality)"
   ]
  },
  {
   "cell_type": "markdown",
   "metadata": {},
   "source": [
    "Here we create a model for recommending nearest song to the query song in terms of 9 features (check analyzeFeatures variable)"
   ]
  },
  {
   "cell_type": "markdown",
   "metadata": {},
   "source": [
    "Let's create the X matrix"
   ]
  },
  {
   "cell_type": "code",
   "execution_count": 30,
   "metadata": {
    "collapsed": true
   },
   "outputs": [],
   "source": [
    "X = allSongsUnique[analyzeFeatures].dropna()\n"
   ]
  },
  {
   "cell_type": "markdown",
   "metadata": {},
   "source": [
    "Scale the X matrix"
   ]
  },
  {
   "cell_type": "code",
   "execution_count": 31,
   "metadata": {
    "collapsed": true
   },
   "outputs": [],
   "source": [
    "scaler = StandardScaler()\n",
    "X = scaler.fit_transform(X)"
   ]
  },
  {
   "cell_type": "markdown",
   "metadata": {},
   "source": [
    "Train"
   ]
  },
  {
   "cell_type": "code",
   "execution_count": 33,
   "metadata": {
    "collapsed": true
   },
   "outputs": [],
   "source": [
    "nbrs_musical = NearestNeighbors(n_neighbors=4, algorithm='ball_tree').fit(X)"
   ]
  },
  {
   "cell_type": "markdown",
   "metadata": {},
   "source": [
    "### QUERY"
   ]
  },
  {
   "cell_type": "code",
   "execution_count": 34,
   "metadata": {
    "collapsed": true
   },
   "outputs": [],
   "source": [
    "query = 'Son sabah'"
   ]
  },
  {
   "cell_type": "code",
   "execution_count": 35,
   "metadata": {
    "collapsed": true
   },
   "outputs": [],
   "source": [
    "results = sp.search(q=query, limit=1)\n",
    "tids = []"
   ]
  },
  {
   "cell_type": "code",
   "execution_count": 36,
   "metadata": {},
   "outputs": [
    {
     "name": "stdout",
     "output_type": "stream",
     "text": [
      "Song is found\n",
      "Song Name : Son Sabah\n",
      "Artist Name : mor ve ötesi\n"
     ]
    }
   ],
   "source": [
    "for i, t in enumerate(results['tracks']['items']):\n",
    "    print('Song is found')\n",
    "    print('Song Name : ' + t['name'])\n",
    "    print('Artist Name : ' +t['artists'][0]['name'])\n",
    "    tids.append(t['uri'])\n",
    "    \n",
    "qFeatures = pd.DataFrame(sp.audio_features(tids))[analyzeFeatures]\n",
    "qFeatures = scaler.transform(qFeatures)"
   ]
  },
  {
   "cell_type": "code",
   "execution_count": 37,
   "metadata": {
    "collapsed": true
   },
   "outputs": [],
   "source": [
    "distances, indices = nbrs_musical.kneighbors(qFeatures)"
   ]
  },
  {
   "cell_type": "code",
   "execution_count": 29,
   "metadata": {},
   "outputs": [
    {
     "name": "stdout",
     "output_type": "stream",
     "text": [
      "                                    Artist  \\\n",
      "Track Name                                   \n",
      "Lonely This Christmas                  Mud   \n",
      "Beşiktaş Tribün Marşı      Various Artists   \n",
      "Sciroppo (feat. DrefGold)    Sfera Ebbasta   \n",
      "Machika                           J Balvin   \n",
      "\n",
      "                                                                             URL  \n",
      "Track Name                                                                        \n",
      "Lonely This Christmas      https://open.spotify.com/track/0leIhGny91OrU4mjcshsjI  \n",
      "Beşiktaş Tribün Marşı      https://open.spotify.com/track/3HSK7PLGOLvYeqnwiypDAk  \n",
      "Sciroppo (feat. DrefGold)  https://open.spotify.com/track/4VVG3HBGaqSNZqIpmewIA6  \n",
      "Machika                    https://open.spotify.com/track/6MNGxu8MprKGkchUchkJsy  \n",
      "[[93.88390959 94.5015408  94.61001462 94.67905857]]\n"
     ]
    }
   ],
   "source": [
    "for i in indices:\n",
    "    print(allSongsUnique.iloc[i][['Artist', 'URL']])\n",
    "    print(distances)"
   ]
  },
  {
   "cell_type": "markdown",
   "metadata": {},
   "source": [
    "## PART II) Prediction of the nearest popular song of a query string(in terms of lyrics) (Turkish)"
   ]
  },
  {
   "cell_type": "markdown",
   "metadata": {},
   "source": [
    "Here the input is any string, output is the closest song in terms of lyrics \n"
   ]
  },
  {
   "cell_type": "markdown",
   "metadata": {},
   "source": [
    "Some functions to use "
   ]
  },
  {
   "cell_type": "code",
   "execution_count": 19,
   "metadata": {
    "collapsed": true
   },
   "outputs": [],
   "source": [
    "stemmer = TurkishStemmer()\n",
    "\n",
    "def cleanText(data): #Cleans text deletes \\r \\n [] etc. \n",
    "    data = str(data)\n",
    "    data = data.replace(r'\\r', ' ')\n",
    "    data = data.replace(r'\\n', ' ')\n",
    "    p = re.compile(r'<.*?>')\n",
    "    data = p.sub('', data)\n",
    "    p = re.compile(r'\\[.*?\\]')\n",
    "    data =   p.sub('', data)\n",
    "    p = re.compile(r'[^\\w\\s]')\n",
    "    data =  p.sub('', data).lower()\n",
    "    data = re.sub(' +',' ',data)\n",
    "    \n",
    "    \n",
    "    return data.replace('\\n', ' ')\n",
    "\n",
    "def cleanAndStem(text, stemmer= stemmer): # Uses turkish stemmer\n",
    "    return \" \".join([stemmer.stem(w) for w in cleanText(text).split()])"
   ]
  },
  {
   "cell_type": "markdown",
   "metadata": {},
   "source": [
    "First let's load all the turkish songs that we got the lyrics "
   ]
  },
  {
   "cell_type": "code",
   "execution_count": 20,
   "metadata": {},
   "outputs": [
    {
     "data": {
      "text/plain": [
       "array(['tr', 'en', nan, 'bg', 'es', 'tren', 'ko', 'zh-CN', 'pt', 'espt',\n",
       "       'fr', 'de', 'ja', 'ar', 'nl', 'uk', 'sv'], dtype=object)"
      ]
     },
     "execution_count": 20,
     "metadata": {},
     "output_type": "execute_result"
    }
   ],
   "source": [
    "allSongsUnique['lang'].unique()\n"
   ]
  },
  {
   "cell_type": "code",
   "execution_count": 21,
   "metadata": {
    "scrolled": true
   },
   "outputs": [
    {
     "name": "stdout",
     "output_type": "stream",
     "text": [
      "The number of Turkish songs that we got the lyrics is 433\n"
     ]
    },
    {
     "data": {
      "text/html": [
       "<div>\n",
       "<style scoped>\n",
       "    .dataframe tbody tr th:only-of-type {\n",
       "        vertical-align: middle;\n",
       "    }\n",
       "\n",
       "    .dataframe tbody tr th {\n",
       "        vertical-align: top;\n",
       "    }\n",
       "\n",
       "    .dataframe thead th {\n",
       "        text-align: right;\n",
       "    }\n",
       "</style>\n",
       "<table border=\"1\" class=\"dataframe\">\n",
       "  <thead>\n",
       "    <tr style=\"text-align: right;\">\n",
       "      <th></th>\n",
       "      <th>Artist</th>\n",
       "      <th>lyrics</th>\n",
       "    </tr>\n",
       "    <tr>\n",
       "      <th>Track Name</th>\n",
       "      <th></th>\n",
       "      <th></th>\n",
       "    </tr>\n",
       "  </thead>\n",
       "  <tbody>\n",
       "    <tr>\n",
       "      <th>Gece Gölgenin Rahatına Bak</th>\n",
       "      <td>Çağatay Akman</td>\n",
       "      <td>\\r\\r\\r\\r\\r\\r\\r\\r\\r\\r\\r\\n\\r\\r\\r\\r\\r\\r\\r\\r\\r\\r\\r\\n[Verse]\\r\\r\\r\\r\\r\\r\\r\\r\\r\\r\\r\\nGece Gölgenin rahatına bak\\r\\r\\r\\r\\r\\r\\r\\r\\r\\r\\r\\nBide dön Kaderimin bahtına yar\\r\\r\\r\\r\\r\\r\\r\\r\\r\\r\\r\\nSeni Düşlerin anlayacak da\\r\\r\\r\\r\\r\\r\\r\\r\\r\\r\\r\\nDön memleketin haline bak\\r\\r\\r\\r\\r\\r\\r\\r\\r\\r\\r\\n\\r\\r\\r\\r\\r\\r\\r\\r\\r\\r\\r\\nAldı dünya çantasını\\r\\r\\r\\r\\r\\r\\r\\r\\r\\r\\r\\nGidiyor bıraktı bize fazlasını\\r\\r\\r\\r\\r\\r\\r\\r\\r\\r\\r\\nDönüp bakmaz arkasına\\r\\r\\r\\r\\r\\r\\r\\r\\r\\r\\r\\nBir de gel tat kalbimin bombasını\\r\\r\\r\\r\\r\\r\\r\\r\\r\\r\\r\\n\\r\\r\\r\\r\\r\\r\\r\\r\\r\\r\\r\\nAdaleti koyduk ortasına\\r\\r\\r\\r\\r\\r\\r\\r\\r\\r\\r\\nDön dedi döndük voltasına\\r\\r\\r\\r\\r\\r\\r\\r\\r\\r\\r\\nFakirin paradan haberi yok ama\\r\\r\\r\\r\\r\\r\\r\\r\\r\\r\\r\\nZenginin meyvesini koy votkasına\\r\\r\\r\\r\\r\\r\\r\\r\\r\\r\\r\\n\\r\\r\\r\\r\\r\\r\\r\\r\\r\\r\\r\\nHadi gönlümü vurdun da\\r\\r\\r\\r\\r\\r\\r\\r\\r\\r\\r\\nSöyle kim kimin umrunda\\r\\r\\r\\r\\r\\r\\r\\r\\r\\r\\r\\nYılan yatıyor koynunda\\r\\r\\r\\r\\r\\r\\r\\r\\r\\r\\r\\nBir öpücük kondur boynundan\\r\\r\\r\\r\\r\\r\\r\\r\\r\\r\\r\\n\\r\\r\\r\\r\\r\\r\\r\\r\\r\\r\\r\\n[Hook]\\r\\r\\r\\r\\r\\r\\r\\r\\r\\r\\r\\nBiraz dur başucumda\\r\\r\\r\\r\\r\\r\\r\\r\\r\\r\\r\\nKanter kalmışım uçurumda\\r\\r\\r\\r\\r\\r\\r\\r\\r\\r\\r\\nAzrail göz kırpsa\\r\\r\\r\\r\\r\\r\\r\\r\\r\\r\\r\\nEcel bize kucak açsa [x2]\\r\\r\\r\\r\\r\\r\\r\\r\\r\\r\\r\\n\\r\\r\\r\\r\\r\\r\\r\\r\\r\\r\\r\\n[Bridge]\\r\\r\\r\\r\\r\\r\\r\\r\\r\\r\\r\\nSabah gecenin üstünden\\r\\r\\r\\r\\r\\r\\r\\r\\r\\r\\r\\nÜstüne düştüm üstünden\\r\\r\\r\\r\\r\\r\\r\\r\\r\\r\\r\\nÜstüne üstlük küskünler\\r\\r\\r\\r\\r\\r\\r\\r\\r\\r\\r\\nGeceye küskünler\\r\\r\\r\\r\\r\\r\\r\\r\\r\\r\\r\\n\\r\\r\\r\\r\\r\\r\\r\\r\\r\\r\\r\\nKalem kağıda almışsa\\r\\r\\r\\r\\r\\r\\r\\r\\r\\r\\r\\nGüneş geceyi sarmışsa\\r\\r\\r\\r\\r\\r\\r\\r\\r\\r\\r\\nÖlüm kapıda durmuşsa\\r\\r\\r\\r\\r\\r\\r\\r\\r\\r\\r\\nEcel sonumuz olmuşsa\\r\\r\\r\\r\\r\\r\\r\\r\\r\\r\\r\\n\\r\\r\\r\\r\\r\\r\\r\\r\\r\\r\\r\\n[Verse]\\r\\r\\r\\r\\r\\r\\r\\r\\r\\r\\r\\nGece gölgenin rahatına bak\\r\\r\\r\\r\\r\\r\\r\\r\\r\\r\\r\\nBir de dön kaderimin bahtına bak yar\\r\\r\\r\\r\\r\\r\\r\\r\\r\\r\\r\\nSeni düşlerin anlayacak da\\r\\r\\r\\r\\r\\r\\r\\r\\r\\r\\r\\nDön memleketin haline bak\\r\\r\\r\\r\\r\\r\\r\\r\\r\\r\\r\\n\\r\\r\\r\\r\\r\\r\\r\\r\\r\\r\\r\\nAldı dünya çantasını\\r\\r\\r\\r\\r\\r\\r\\r\\r\\r\\r\\nGidiyor bıraktı bize fazlasını\\r\\r\\r\\r\\r\\r\\r\\r\\r\\r\\r\\nDönüp bakmaz arkasına\\r\\r\\r\\r\\r\\r\\r\\r\\r\\r\\r\\nBir de gel tat kalbimin bombasını\\r\\r\\r\\r\\r\\r\\r\\r\\r\\r\\r\\n\\r\\r\\r\\r\\r\\r\\r\\r\\r\\r\\r\\nAdaleti koyduk ortasına\\r\\r\\r\\r\\r\\r\\r\\r\\r\\r\\r\\nDön dedi döndük voltasına\\r\\r\\r\\r\\r\\r\\r\\r\\r\\r\\r\\nFakirin paradan haberi yok ama\\r\\r\\r\\r\\r\\r\\r\\r\\r\\r\\r\\nZenginin meyvesini koy votkasına\\r\\r\\r\\r\\r\\r\\r\\r\\r\\r\\r\\n\\r\\r\\r\\r\\r\\r\\r\\r\\r\\r\\r\\nHadi gönlümü vurdun da\\r\\r\\r\\r\\r\\r\\r\\r\\r\\r\\r\\nSöyle kim kimin umrunda\\r\\r\\r\\r\\r\\r\\r\\r\\r\\r\\r\\nYılan yatıyor koynunda\\r\\r\\r\\r\\r\\r\\r\\r\\r\\r\\r\\nBir öpücük kondur boynundan\\r\\r\\r\\r\\r\\r\\r\\r\\r\\r\\r\\n\\r\\r\\r\\r\\r\\r\\r\\r\\r\\r\\r\\n[Hook]\\r\\r\\r\\r\\r\\r\\r\\r\\r\\r\\r\\nBiraz dur başucumda\\r\\r\\r\\r\\r\\r\\r\\r\\r\\r\\r\\nKanter kalmışım uçurumda\\r\\r\\r\\r\\r\\r\\r\\r\\r\\r\\r\\nAzrail göz kırpsa\\r\\r\\r\\r\\r\\r\\r\\r\\r\\r\\r\\nEcel bize kucak açsa [x2]\\r\\r\\r\\r\\r\\r\\r\\r\\r\\r\\r\\n\\r\\r\\r\\r\\r\\r\\r\\r\\r\\r\\r\\n</td>\n",
       "    </tr>\n",
       "    <tr>\n",
       "      <th>Affet</th>\n",
       "      <td>Müslüm Gürses</td>\n",
       "      <td>\\r\\r\\r\\r\\r\\r\\r\\r\\r\\r\\r\\n\\r\\r\\r\\r\\r\\r\\r\\r\\r\\r\\r\\nEğer seni kırdıysam\\r\\r\\r\\r\\r\\r\\r\\r\\r\\r\\r\\nDarıl bana\\r\\r\\r\\r\\r\\r\\r\\r\\r\\r\\r\\nAma bir gün beni ararsan\\r\\r\\r\\r\\r\\r\\r\\r\\r\\r\\r\\nBak ruhuna\\r\\r\\r\\r\\r\\r\\r\\r\\r\\r\\r\\n\\r\\r\\r\\r\\r\\r\\r\\r\\r\\r\\r\\nBirden gecem tutarsa\\r\\r\\r\\r\\r\\r\\r\\r\\r\\r\\r\\nGüneşi çevir bana\\r\\r\\r\\r\\r\\r\\r\\r\\r\\r\\r\\nSevgilim bağışla\\r\\r\\r\\r\\r\\r\\r\\r\\r\\r\\r\\nBiraz zor olsa da\\r\\r\\r\\r\\r\\r\\r\\r\\r\\r\\r\\n\\r\\r\\r\\r\\r\\r\\r\\r\\r\\r\\r\\nAffet beni akşamüstü\\r\\r\\r\\r\\r\\r\\r\\r\\r\\r\\r\\nGölgem uzarken\\r\\r\\r\\r\\r\\r\\r\\r\\r\\r\\r\\nÖğleden sonra affet\\r\\r\\r\\r\\r\\r\\r\\r\\r\\r\\r\\nNe zaman istersen\\r\\r\\r\\r\\r\\r\\r\\r\\r\\r\\r\\n\\r\\r\\r\\r\\r\\r\\r\\r\\r\\r\\r\\nAffet beni gece vakti\\r\\r\\r\\r\\r\\r\\r\\r\\r\\r\\r\\nAy doğmuş süzülürken\\r\\r\\r\\r\\r\\r\\r\\r\\r\\r\\r\\nSabaha kalmadan affet\\r\\r\\r\\r\\r\\r\\r\\r\\r\\r\\r\\nTam ayrılık derken\\r\\r\\r\\r\\r\\r\\r\\r\\r\\r\\r\\n\\r\\r\\r\\r\\r\\r\\r\\r\\r\\r\\r\\nÇünkü sen çölüme yağmur oldun\\r\\r\\r\\r\\r\\r\\r\\r\\r\\r\\r\\nSen, geceme gündüz oldun\\r\\r\\r\\r\\r\\r\\r\\r\\r\\r\\r\\nSen, canıma yoldaş oldun\\r\\r\\r\\r\\r\\r\\r\\r\\r\\r\\r\\nSen, kışıma yorgan oldun\\r\\r\\r\\r\\r\\r\\r\\r\\r\\r\\r\\n\\r\\r\\r\\r\\r\\r\\r\\r\\r\\r\\r\\n</td>\n",
       "    </tr>\n",
       "    <tr>\n",
       "      <th>Yan Benimle</th>\n",
       "      <td>Sıla</td>\n",
       "      <td>\\r\\r\\r\\r\\r\\r\\r\\r\\r\\r\\r\\n\\r\\r\\r\\r\\r\\r\\r\\r\\r\\r\\r\\n[Bölüm]\\r\\r\\r\\r\\r\\r\\r\\r\\r\\r\\r\\nYalan sevinçle oyalandım\\r\\r\\r\\r\\r\\r\\r\\r\\r\\r\\r\\nAklın tuzağında dolandım\\r\\r\\r\\r\\r\\r\\r\\r\\r\\r\\r\\nKusuruma bakma, zil zurna geldim\\r\\r\\r\\r\\r\\r\\r\\r\\r\\r\\r\\nSabahın 5'i kapına dayandım\\r\\r\\r\\r\\r\\r\\r\\r\\r\\r\\r\\n\\r\\r\\r\\r\\r\\r\\r\\r\\r\\r\\r\\nErbabım aşk madem\\r\\r\\r\\r\\r\\r\\r\\r\\r\\r\\r\\nMadem yasaklar namahrem\\r\\r\\r\\r\\r\\r\\r\\r\\r\\r\\r\\nKafeste sözler susuyor şimdilik\\r\\r\\r\\r\\r\\r\\r\\r\\r\\r\\r\\nUçurur zaman hele du' bakalım\\r\\r\\r\\r\\r\\r\\r\\r\\r\\r\\r\\n\\r\\r\\r\\r\\r\\r\\r\\r\\r\\r\\r\\n[Bridge]\\r\\r\\r\\r\\r\\r\\r\\r\\r\\r\\r\\nSırtında uzun hırka gibi gece\\r\\r\\r\\r\\r\\r\\r\\r\\r\\r\\r\\nYârenlik etmez, kaytarır hece\\r\\r\\r\\r\\r\\r\\r\\r\\r\\r\\r\\nHatıra oturmuş, kalkmaz, hâlden anlamaz\\r\\r\\r\\r\\r\\r\\r\\r\\r\\r\\r\\nDerya deniz düşünce\\r\\r\\r\\r\\r\\r\\r\\r\\r\\r\\r\\n\\r\\r\\r\\r\\r\\r\\r\\r\\r\\r\\r\\n[Nakarat](x2)\\r\\r\\r\\r\\r\\r\\r\\r\\r\\r\\r\\nGezdim seni sokak, sokak\\r\\r\\r\\r\\r\\r\\r\\r\\r\\r\\r\\nValla' yok hesap, kitap\\r\\r\\r\\r\\r\\r\\r\\r\\r\\r\\r\\nİçimde avaz, avaz\\r\\r\\r\\r\\r\\r\\r\\r\\r\\r\\r\\nYan, yan, yan benimle\\r\\r\\r\\r\\r\\r\\r\\r\\r\\r\\r\\nUzun yola gider gibi\\r\\r\\r\\r\\r\\r\\r\\r\\r\\r\\r\\nBakma öyle yüzüme!\\r\\r\\r\\r\\r\\r\\r\\r\\r\\r\\r\\nAman cancağazım etme!\\r\\r\\r\\r\\r\\r\\r\\r\\r\\r\\r\\n\\r\\r\\r\\r\\r\\r\\r\\r\\r\\r\\r\\n[Bridge]\\r\\r\\r\\r\\r\\r\\r\\r\\r\\r\\r\\nSırtında uzun hırka gibi gece\\r\\r\\r\\r\\r\\r\\r\\r\\r\\r\\r\\nYârenlik etmez, kaytarır hece\\r\\r\\r\\r\\r\\r\\r\\r\\r\\r\\r\\nHatıra oturmuş, kalkmaz, hâlden anlamaz\\r\\r\\r\\r\\r\\r\\r\\r\\r\\r\\r\\nDerya deniz düşünce\\r\\r\\r\\r\\r\\r\\r\\r\\r\\r\\r\\n\\r\\r\\r\\r\\r\\r\\r\\r\\r\\r\\r\\n[Nakarat](x2)\\r\\r\\r\\r\\r\\r\\r\\r\\r\\r\\r\\nGezdim seni sokak, sokak\\r\\r\\r\\r\\r\\r\\r\\r\\r\\r\\r\\nValla' yok hesap, kitap\\r\\r\\r\\r\\r\\r\\r\\r\\r\\r\\r\\nİçimde avaz, avaz\\r\\r\\r\\r\\r\\r\\r\\r\\r\\r\\r\\nYan, yan, yan benimle\\r\\r\\r\\r\\r\\r\\r\\r\\r\\r\\r\\nUzun yola gider gibi\\r\\r\\r\\r\\r\\r\\r\\r\\r\\r\\r\\nBakma öyle yüzüme!\\r\\r\\r\\r\\r\\r\\r\\r\\r\\r\\r\\nAman cancağazım etme!\\r\\r\\r\\r\\r\\r\\r\\r\\r\\r\\r\\n\\r\\r\\r\\r\\r\\r\\r\\r\\r\\r\\r\\n[Outro]\\r\\r\\r\\r\\r\\r\\r\\r\\r\\r\\r\\nAman cancağazım etme!\\r\\r\\r\\r\\r\\r\\r\\r\\r\\r\\r\\n\\r\\r\\r\\r\\r\\r\\r\\r\\r\\r\\r\\n\\r\\r\\r\\r\\r\\r\\r\\r\\r\\r\\r\\n\\r\\r\\r\\r\\r\\r\\r\\r\\r\\r\\r\\n</td>\n",
       "    </tr>\n",
       "    <tr>\n",
       "      <th>366.Gün</th>\n",
       "      <td>Sagopa Kajmer</td>\n",
       "      <td>\\r\\r\\r\\r\\r\\r\\r\\r\\r\\r\\r\\n\\r\\r\\r\\r\\r\\r\\r\\r\\r\\r\\r\\n[Verse 1]\\r\\r\\r\\r\\r\\r\\r\\r\\r\\r\\r\\nKurulu bir makinayım, ya arıza yaparsam?\\r\\r\\r\\r\\r\\r\\r\\r\\r\\r\\r\\nİstemediğim halde ya devrelerimi yakarsam?\\r\\r\\r\\r\\r\\r\\r\\r\\r\\r\\r\\nDik durmam gerek, ya yere yıkılırsam?\\r\\r\\r\\r\\r\\r\\r\\r\\r\\r\\r\\nYa bir çuval inciri mahveden ben olursam?\\r\\r\\r\\r\\r\\r\\r\\r\\r\\r\\r\\nBir daha düşünecek olsam aynı yanlışı iki kere yapar mıydım? Sanmam!\\r\\r\\r\\r\\r\\r\\r\\r\\r\\r\\r\\nEyvahlar olsun bir daha kanmam\\r\\r\\r\\r\\r\\r\\r\\r\\r\\r\\r\\nNe de zor oluyor aradıklarımı bulmam\\r\\r\\r\\r\\r\\r\\r\\r\\r\\r\\r\\nSorduğum soruların yanıtını almam\\r\\r\\r\\r\\r\\r\\r\\r\\r\\r\\r\\nCevap belliyse sorusunu sormam\\r\\r\\r\\r\\r\\r\\r\\r\\r\\r\\r\\nDişlerim sivri ama korkma ısırmam\\r\\r\\r\\r\\r\\r\\r\\r\\r\\r\\r\\nBana \"Bit lan artık!\" derler, azalmam\\r\\r\\r\\r\\r\\r\\r\\r\\r\\r\\r\\nSohbeti ne de düzetek, haz almam\\r\\r\\r\\r\\r\\r\\r\\r\\r\\r\\r\\nÇoğundan hoşlandığımı pek sanmam\\r\\r\\r\\r\\r\\r\\r\\r\\r\\r\\r\\nİstediğim anda istediğim yerde olsam\\r\\r\\r\\r\\r\\r\\r\\r\\r\\r\\r\\nSüpermen gibi istediğim yere uçup konsam\\r\\r\\r\\r\\r\\r\\r\\r\\r\\r\\r\\n\\r\\r\\r\\r\\r\\r\\r\\r\\r\\r\\r\\n[Chorus]\\r\\r\\r\\r\\r\\r\\r\\r\\r\\r\\r\\nİnkarı bırak kabullen, kabullenmekten başka çaren yok (yok, yok, yok, yok)\\r\\r\\r\\r\\r\\r\\r\\r\\r\\r\\r\\nNe de zor oluyor aradıklarını bulman (zar zor, zar zor)\\r\\r\\r\\r\\r\\r\\r\\r\\r\\r\\r\\nPek de zor oluyor aradıklarını bulman (zar zor, zar zor)\\r\\r\\r\\r\\r\\r\\r\\r\\r\\r\\r\\nİnkarı bırak kabullen, kabullenmekten başka çaren yok (yok, yok, yok, yok)\\r\\r\\r\\r\\r\\r\\r\\r\\r\\r\\r\\nNe de zor oluyor aradıklarını bulman (zar zor, zar zor)\\r\\r\\r\\r\\r\\r\\r\\r\\r\\r\\r\\nPek de zor oluyor aradıklarını bulman (zar zor, zar zor)\\r\\r\\r\\r\\r\\r\\r\\r\\r\\r\\r\\n\\r\\r\\r\\r\\r\\r\\r\\r\\r\\r\\r\\n[Verse 2]\\r\\r\\r\\r\\r\\r\\r\\r\\r\\r\\r\\n366. gün, yüzüm yine bana dönük\\r\\r\\r\\r\\r\\r\\r\\r\\r\\r\\r\\nMeskenim değişiyor maskenin ardı görüldüğü zaman kırılıyor kaburgan\\r\\r\\r\\r\\r\\r\\r\\r\\r\\r\\r\\nPanda gibi soyu tükeniyor güvenimin\\r\\r\\r\\r\\r\\r\\r\\r\\r\\r\\r\\nOrmandaki ağaç kadar yalnızlık yakından\\r\\r\\r\\r\\r\\r\\r\\r\\r\\r\\r\\nHey, bana güneş olur musun istesem çevremi saran karanlık şu perdeden?\\r\\r\\r\\r\\r\\r\\r\\r\\r\\r\\r\\nBen göremesem de uzakları şimdiden\\r\\r\\r\\r\\r\\r\\r\\r\\r\\r\\r\\nBana her şey çok uzak be kendiliğinden beri kendimi bildiğimden\\r\\r\\r\\r\\r\\r\\r\\r\\r\\r\\r\\nEmin değilim bilmek istediğimden\\r\\r\\r\\r\\r\\r\\r\\r\\r\\r\\r\\nDefalarca yıpranırsın bildiğinden\\r\\r\\r\\r\\r\\r\\r\\r\\r\\r\\r\\nİnkar etme kabullen peşindesin, bildiğinde bildiğine pişman olacağını bilmene rağmen neden?\\r\\r\\r\\r\\r\\r\\r\\r\\r\\r\\r\\nBir tek aklın kaldı onu da senden aşıramazlar\\r\\r\\r\\r\\r\\r\\r\\r\\r\\r\\r\\nAra ve bul çok uzun saklanamazlar\\r\\r\\r\\r\\r\\r\\r\\r\\r\\r\\r\\nNe o?\\r\\r\\r\\r\\r\\r\\r\\r\\r\\r\\r\\nOlacakları biliyorken çok fazla şaşıramazlar\\r\\r\\r\\r\\r\\r\\r\\r\\r\\r\\r\\nTazı durdu artık koşturamazlar\\r\\r\\r\\r\\r\\r\\r\\r\\r\\r\\r\\n\\r\\r\\r\\r\\r\\r\\r\\r\\r\\r\\r\\n[Chorus]\\r\\r\\r\\r\\r\\r\\r\\r\\r\\r\\r\\nİnkarı bırak kabullen, kabullenmekten başka çaren yok (yok, yok, yok, yok)\\r\\r\\r\\r\\r\\r\\r\\r\\r\\r\\r\\nNe de zor oluyor aradıklarını bulman (zar zor, zar zor)\\r\\r\\r\\r\\r\\r\\r\\r\\r\\r\\r\\nPek de zor oluyor aradıklarını bulman (zar zor, zar zor)\\r\\r\\r\\r\\r\\r\\r\\r\\r\\r\\r\\nİnkarı bırak kabullen, kabullenmekten başka çaren yok (yok, yok, yok, yok)\\r\\r\\r\\r\\r\\r\\r\\r\\r\\r\\r\\nNe de zor oluyor aradıklarını bulman (zar zor, zar zor)\\r\\r\\r\\r\\r\\r\\r\\r\\r\\r\\r\\nPek de zor oluyor aradıklarını bulman (zar zor, zar zor)\\r\\r\\r\\r\\r\\r\\r\\r\\r\\r\\r\\n\\r\\r\\r\\r\\r\\r\\r\\r\\r\\r\\r\\n</td>\n",
       "    </tr>\n",
       "    <tr>\n",
       "      <th>Nilüfer</th>\n",
       "      <td>Müslüm Gürses</td>\n",
       "      <td>\\r\\r\\r\\r\\r\\r\\r\\r\\r\\r\\r\\n\\r\\r\\r\\r\\r\\r\\r\\r\\r\\r\\r\\nZamanın eli değdi bize\\r\\r\\r\\r\\r\\r\\r\\r\\r\\r\\r\\nÇoktan değişti her şey\\r\\r\\r\\r\\r\\r\\r\\r\\r\\r\\r\\nAynı değiliz ikimiz de\\r\\r\\r\\r\\r\\r\\r\\r\\r\\r\\r\\nZaaflarına bir gece\\r\\r\\r\\r\\r\\r\\r\\r\\r\\r\\r\\nHatalarına bir nilüfer\\r\\r\\r\\r\\r\\r\\r\\r\\r\\r\\r\\nSevgisizliğine bir kalp verdim\\r\\r\\r\\r\\r\\r\\r\\r\\r\\r\\r\\nArtık geri ver\\r\\r\\r\\r\\r\\r\\r\\r\\r\\r\\r\\nGeri veremezsin aldıklarını\\r\\r\\r\\r\\r\\r\\r\\r\\r\\r\\r\\nArtık geri ver\\r\\r\\r\\r\\r\\r\\r\\r\\r\\r\\r\\nGeri verilmez hiçbir yanılgı\\r\\r\\r\\r\\r\\r\\r\\r\\r\\r\\r\\nYokluğuma emanet et\\r\\r\\r\\r\\r\\r\\r\\r\\r\\r\\r\\nSende benden kalanları\\r\\r\\r\\r\\r\\r\\r\\r\\r\\r\\r\\nHer şeyi al\\r\\r\\r\\r\\r\\r\\r\\r\\r\\r\\r\\nBana beni geri ver\\r\\r\\r\\r\\r\\r\\r\\r\\r\\r\\r\\nBir şansım olsun\\r\\r\\r\\r\\r\\r\\r\\r\\r\\r\\r\\nBaşka yer, başka zaman\\r\\r\\r\\r\\r\\r\\r\\r\\r\\r\\r\\nSensiz ömrüm olsun\\r\\r\\r\\r\\r\\r\\r\\r\\r\\r\\r\\n\\r\\r\\r\\r\\r\\r\\r\\r\\r\\r\\r\\n</td>\n",
       "    </tr>\n",
       "  </tbody>\n",
       "</table>\n",
       "</div>"
      ],
      "text/plain": [
       "                                   Artist  \\\n",
       "Track Name                                  \n",
       "Gece Gölgenin Rahatına Bak  Çağatay Akman   \n",
       "Affet                       Müslüm Gürses   \n",
       "Yan Benimle                          Sıla   \n",
       "366.Gün                     Sagopa Kajmer   \n",
       "Nilüfer                     Müslüm Gürses   \n",
       "\n",
       "                                                                                                                                                                                                                                                                                                                                                                                                                                                                                                                                                                                                                                                                                                                                                                                                                                                                                                                                                                                                                                                                                                                                                                                                                                                                                                                                                                                                                                                                                                                                                                                                                                                                                                                                                                                                                                                                                                                                                                                                                                                                                                                                                                                                                                                                                                                                                                                                                                                                                                                                                                                                                                                                                                                                                                                                                                                                                                                                                                                                                                                                                                                                                                                                                                                                                                                                                                                               lyrics  \n",
       "Track Name                                                                                                                                                                                                                                                                                                                                                                                                                                                                                                                                                                                                                                                                                                                                                                                                                                                                                                                                                                                                                                                                                                                                                                                                                                                                                                                                                                                                                                                                                                                                                                                                                                                                                                                                                                                                                                                                                                                                                                                                                                                                                                                                                                                                                                                                                                                                                                                                                                                                                                                                                                                                                                                                                                                                                                                                                                                                                                                                                                                                                                                                                                                                                                                                                                                                                                                                                                                             \n",
       "Gece Gölgenin Rahatına Bak                                                                                                                                                                                                                                                                                                                                                                                                                                               \\r\\r\\r\\r\\r\\r\\r\\r\\r\\r\\r\\n\\r\\r\\r\\r\\r\\r\\r\\r\\r\\r\\r\\n[Verse]\\r\\r\\r\\r\\r\\r\\r\\r\\r\\r\\r\\nGece Gölgenin rahatına bak\\r\\r\\r\\r\\r\\r\\r\\r\\r\\r\\r\\nBide dön Kaderimin bahtına yar\\r\\r\\r\\r\\r\\r\\r\\r\\r\\r\\r\\nSeni Düşlerin anlayacak da\\r\\r\\r\\r\\r\\r\\r\\r\\r\\r\\r\\nDön memleketin haline bak\\r\\r\\r\\r\\r\\r\\r\\r\\r\\r\\r\\n\\r\\r\\r\\r\\r\\r\\r\\r\\r\\r\\r\\nAldı dünya çantasını\\r\\r\\r\\r\\r\\r\\r\\r\\r\\r\\r\\nGidiyor bıraktı bize fazlasını\\r\\r\\r\\r\\r\\r\\r\\r\\r\\r\\r\\nDönüp bakmaz arkasına\\r\\r\\r\\r\\r\\r\\r\\r\\r\\r\\r\\nBir de gel tat kalbimin bombasını\\r\\r\\r\\r\\r\\r\\r\\r\\r\\r\\r\\n\\r\\r\\r\\r\\r\\r\\r\\r\\r\\r\\r\\nAdaleti koyduk ortasına\\r\\r\\r\\r\\r\\r\\r\\r\\r\\r\\r\\nDön dedi döndük voltasına\\r\\r\\r\\r\\r\\r\\r\\r\\r\\r\\r\\nFakirin paradan haberi yok ama\\r\\r\\r\\r\\r\\r\\r\\r\\r\\r\\r\\nZenginin meyvesini koy votkasına\\r\\r\\r\\r\\r\\r\\r\\r\\r\\r\\r\\n\\r\\r\\r\\r\\r\\r\\r\\r\\r\\r\\r\\nHadi gönlümü vurdun da\\r\\r\\r\\r\\r\\r\\r\\r\\r\\r\\r\\nSöyle kim kimin umrunda\\r\\r\\r\\r\\r\\r\\r\\r\\r\\r\\r\\nYılan yatıyor koynunda\\r\\r\\r\\r\\r\\r\\r\\r\\r\\r\\r\\nBir öpücük kondur boynundan\\r\\r\\r\\r\\r\\r\\r\\r\\r\\r\\r\\n\\r\\r\\r\\r\\r\\r\\r\\r\\r\\r\\r\\n[Hook]\\r\\r\\r\\r\\r\\r\\r\\r\\r\\r\\r\\nBiraz dur başucumda\\r\\r\\r\\r\\r\\r\\r\\r\\r\\r\\r\\nKanter kalmışım uçurumda\\r\\r\\r\\r\\r\\r\\r\\r\\r\\r\\r\\nAzrail göz kırpsa\\r\\r\\r\\r\\r\\r\\r\\r\\r\\r\\r\\nEcel bize kucak açsa [x2]\\r\\r\\r\\r\\r\\r\\r\\r\\r\\r\\r\\n\\r\\r\\r\\r\\r\\r\\r\\r\\r\\r\\r\\n[Bridge]\\r\\r\\r\\r\\r\\r\\r\\r\\r\\r\\r\\nSabah gecenin üstünden\\r\\r\\r\\r\\r\\r\\r\\r\\r\\r\\r\\nÜstüne düştüm üstünden\\r\\r\\r\\r\\r\\r\\r\\r\\r\\r\\r\\nÜstüne üstlük küskünler\\r\\r\\r\\r\\r\\r\\r\\r\\r\\r\\r\\nGeceye küskünler\\r\\r\\r\\r\\r\\r\\r\\r\\r\\r\\r\\n\\r\\r\\r\\r\\r\\r\\r\\r\\r\\r\\r\\nKalem kağıda almışsa\\r\\r\\r\\r\\r\\r\\r\\r\\r\\r\\r\\nGüneş geceyi sarmışsa\\r\\r\\r\\r\\r\\r\\r\\r\\r\\r\\r\\nÖlüm kapıda durmuşsa\\r\\r\\r\\r\\r\\r\\r\\r\\r\\r\\r\\nEcel sonumuz olmuşsa\\r\\r\\r\\r\\r\\r\\r\\r\\r\\r\\r\\n\\r\\r\\r\\r\\r\\r\\r\\r\\r\\r\\r\\n[Verse]\\r\\r\\r\\r\\r\\r\\r\\r\\r\\r\\r\\nGece gölgenin rahatına bak\\r\\r\\r\\r\\r\\r\\r\\r\\r\\r\\r\\nBir de dön kaderimin bahtına bak yar\\r\\r\\r\\r\\r\\r\\r\\r\\r\\r\\r\\nSeni düşlerin anlayacak da\\r\\r\\r\\r\\r\\r\\r\\r\\r\\r\\r\\nDön memleketin haline bak\\r\\r\\r\\r\\r\\r\\r\\r\\r\\r\\r\\n\\r\\r\\r\\r\\r\\r\\r\\r\\r\\r\\r\\nAldı dünya çantasını\\r\\r\\r\\r\\r\\r\\r\\r\\r\\r\\r\\nGidiyor bıraktı bize fazlasını\\r\\r\\r\\r\\r\\r\\r\\r\\r\\r\\r\\nDönüp bakmaz arkasına\\r\\r\\r\\r\\r\\r\\r\\r\\r\\r\\r\\nBir de gel tat kalbimin bombasını\\r\\r\\r\\r\\r\\r\\r\\r\\r\\r\\r\\n\\r\\r\\r\\r\\r\\r\\r\\r\\r\\r\\r\\nAdaleti koyduk ortasına\\r\\r\\r\\r\\r\\r\\r\\r\\r\\r\\r\\nDön dedi döndük voltasına\\r\\r\\r\\r\\r\\r\\r\\r\\r\\r\\r\\nFakirin paradan haberi yok ama\\r\\r\\r\\r\\r\\r\\r\\r\\r\\r\\r\\nZenginin meyvesini koy votkasına\\r\\r\\r\\r\\r\\r\\r\\r\\r\\r\\r\\n\\r\\r\\r\\r\\r\\r\\r\\r\\r\\r\\r\\nHadi gönlümü vurdun da\\r\\r\\r\\r\\r\\r\\r\\r\\r\\r\\r\\nSöyle kim kimin umrunda\\r\\r\\r\\r\\r\\r\\r\\r\\r\\r\\r\\nYılan yatıyor koynunda\\r\\r\\r\\r\\r\\r\\r\\r\\r\\r\\r\\nBir öpücük kondur boynundan\\r\\r\\r\\r\\r\\r\\r\\r\\r\\r\\r\\n\\r\\r\\r\\r\\r\\r\\r\\r\\r\\r\\r\\n[Hook]\\r\\r\\r\\r\\r\\r\\r\\r\\r\\r\\r\\nBiraz dur başucumda\\r\\r\\r\\r\\r\\r\\r\\r\\r\\r\\r\\nKanter kalmışım uçurumda\\r\\r\\r\\r\\r\\r\\r\\r\\r\\r\\r\\nAzrail göz kırpsa\\r\\r\\r\\r\\r\\r\\r\\r\\r\\r\\r\\nEcel bize kucak açsa [x2]\\r\\r\\r\\r\\r\\r\\r\\r\\r\\r\\r\\n\\r\\r\\r\\r\\r\\r\\r\\r\\r\\r\\r\\n  \n",
       "Affet                                                                                                                                                                                                                                                                                                                                                                                                                                                                                                                                                                                                                                                                                                                                                                                                                                                                                                                                                                                                                                                                                                                                                                                                                                                                                                                                                                                                                                                                                                                                                                                                                                                                                                                                                                                                                                                                                                                                                                                                                                                                                                                                                                                                                                                                                                                        \\r\\r\\r\\r\\r\\r\\r\\r\\r\\r\\r\\n\\r\\r\\r\\r\\r\\r\\r\\r\\r\\r\\r\\nEğer seni kırdıysam\\r\\r\\r\\r\\r\\r\\r\\r\\r\\r\\r\\nDarıl bana\\r\\r\\r\\r\\r\\r\\r\\r\\r\\r\\r\\nAma bir gün beni ararsan\\r\\r\\r\\r\\r\\r\\r\\r\\r\\r\\r\\nBak ruhuna\\r\\r\\r\\r\\r\\r\\r\\r\\r\\r\\r\\n\\r\\r\\r\\r\\r\\r\\r\\r\\r\\r\\r\\nBirden gecem tutarsa\\r\\r\\r\\r\\r\\r\\r\\r\\r\\r\\r\\nGüneşi çevir bana\\r\\r\\r\\r\\r\\r\\r\\r\\r\\r\\r\\nSevgilim bağışla\\r\\r\\r\\r\\r\\r\\r\\r\\r\\r\\r\\nBiraz zor olsa da\\r\\r\\r\\r\\r\\r\\r\\r\\r\\r\\r\\n\\r\\r\\r\\r\\r\\r\\r\\r\\r\\r\\r\\nAffet beni akşamüstü\\r\\r\\r\\r\\r\\r\\r\\r\\r\\r\\r\\nGölgem uzarken\\r\\r\\r\\r\\r\\r\\r\\r\\r\\r\\r\\nÖğleden sonra affet\\r\\r\\r\\r\\r\\r\\r\\r\\r\\r\\r\\nNe zaman istersen\\r\\r\\r\\r\\r\\r\\r\\r\\r\\r\\r\\n\\r\\r\\r\\r\\r\\r\\r\\r\\r\\r\\r\\nAffet beni gece vakti\\r\\r\\r\\r\\r\\r\\r\\r\\r\\r\\r\\nAy doğmuş süzülürken\\r\\r\\r\\r\\r\\r\\r\\r\\r\\r\\r\\nSabaha kalmadan affet\\r\\r\\r\\r\\r\\r\\r\\r\\r\\r\\r\\nTam ayrılık derken\\r\\r\\r\\r\\r\\r\\r\\r\\r\\r\\r\\n\\r\\r\\r\\r\\r\\r\\r\\r\\r\\r\\r\\nÇünkü sen çölüme yağmur oldun\\r\\r\\r\\r\\r\\r\\r\\r\\r\\r\\r\\nSen, geceme gündüz oldun\\r\\r\\r\\r\\r\\r\\r\\r\\r\\r\\r\\nSen, canıma yoldaş oldun\\r\\r\\r\\r\\r\\r\\r\\r\\r\\r\\r\\nSen, kışıma yorgan oldun\\r\\r\\r\\r\\r\\r\\r\\r\\r\\r\\r\\n\\r\\r\\r\\r\\r\\r\\r\\r\\r\\r\\r\\n  \n",
       "Yan Benimle                                                                                                                                                                                                                                                                                                                                                                                                                                                                                                                                                                                                                                                                                                                                                                                                                                                                                                                                                                                                                                                                                                                                                                                                                                                                                                                                                      \\r\\r\\r\\r\\r\\r\\r\\r\\r\\r\\r\\n\\r\\r\\r\\r\\r\\r\\r\\r\\r\\r\\r\\n[Bölüm]\\r\\r\\r\\r\\r\\r\\r\\r\\r\\r\\r\\nYalan sevinçle oyalandım\\r\\r\\r\\r\\r\\r\\r\\r\\r\\r\\r\\nAklın tuzağında dolandım\\r\\r\\r\\r\\r\\r\\r\\r\\r\\r\\r\\nKusuruma bakma, zil zurna geldim\\r\\r\\r\\r\\r\\r\\r\\r\\r\\r\\r\\nSabahın 5'i kapına dayandım\\r\\r\\r\\r\\r\\r\\r\\r\\r\\r\\r\\n\\r\\r\\r\\r\\r\\r\\r\\r\\r\\r\\r\\nErbabım aşk madem\\r\\r\\r\\r\\r\\r\\r\\r\\r\\r\\r\\nMadem yasaklar namahrem\\r\\r\\r\\r\\r\\r\\r\\r\\r\\r\\r\\nKafeste sözler susuyor şimdilik\\r\\r\\r\\r\\r\\r\\r\\r\\r\\r\\r\\nUçurur zaman hele du' bakalım\\r\\r\\r\\r\\r\\r\\r\\r\\r\\r\\r\\n\\r\\r\\r\\r\\r\\r\\r\\r\\r\\r\\r\\n[Bridge]\\r\\r\\r\\r\\r\\r\\r\\r\\r\\r\\r\\nSırtında uzun hırka gibi gece\\r\\r\\r\\r\\r\\r\\r\\r\\r\\r\\r\\nYârenlik etmez, kaytarır hece\\r\\r\\r\\r\\r\\r\\r\\r\\r\\r\\r\\nHatıra oturmuş, kalkmaz, hâlden anlamaz\\r\\r\\r\\r\\r\\r\\r\\r\\r\\r\\r\\nDerya deniz düşünce\\r\\r\\r\\r\\r\\r\\r\\r\\r\\r\\r\\n\\r\\r\\r\\r\\r\\r\\r\\r\\r\\r\\r\\n[Nakarat](x2)\\r\\r\\r\\r\\r\\r\\r\\r\\r\\r\\r\\nGezdim seni sokak, sokak\\r\\r\\r\\r\\r\\r\\r\\r\\r\\r\\r\\nValla' yok hesap, kitap\\r\\r\\r\\r\\r\\r\\r\\r\\r\\r\\r\\nİçimde avaz, avaz\\r\\r\\r\\r\\r\\r\\r\\r\\r\\r\\r\\nYan, yan, yan benimle\\r\\r\\r\\r\\r\\r\\r\\r\\r\\r\\r\\nUzun yola gider gibi\\r\\r\\r\\r\\r\\r\\r\\r\\r\\r\\r\\nBakma öyle yüzüme!\\r\\r\\r\\r\\r\\r\\r\\r\\r\\r\\r\\nAman cancağazım etme!\\r\\r\\r\\r\\r\\r\\r\\r\\r\\r\\r\\n\\r\\r\\r\\r\\r\\r\\r\\r\\r\\r\\r\\n[Bridge]\\r\\r\\r\\r\\r\\r\\r\\r\\r\\r\\r\\nSırtında uzun hırka gibi gece\\r\\r\\r\\r\\r\\r\\r\\r\\r\\r\\r\\nYârenlik etmez, kaytarır hece\\r\\r\\r\\r\\r\\r\\r\\r\\r\\r\\r\\nHatıra oturmuş, kalkmaz, hâlden anlamaz\\r\\r\\r\\r\\r\\r\\r\\r\\r\\r\\r\\nDerya deniz düşünce\\r\\r\\r\\r\\r\\r\\r\\r\\r\\r\\r\\n\\r\\r\\r\\r\\r\\r\\r\\r\\r\\r\\r\\n[Nakarat](x2)\\r\\r\\r\\r\\r\\r\\r\\r\\r\\r\\r\\nGezdim seni sokak, sokak\\r\\r\\r\\r\\r\\r\\r\\r\\r\\r\\r\\nValla' yok hesap, kitap\\r\\r\\r\\r\\r\\r\\r\\r\\r\\r\\r\\nİçimde avaz, avaz\\r\\r\\r\\r\\r\\r\\r\\r\\r\\r\\r\\nYan, yan, yan benimle\\r\\r\\r\\r\\r\\r\\r\\r\\r\\r\\r\\nUzun yola gider gibi\\r\\r\\r\\r\\r\\r\\r\\r\\r\\r\\r\\nBakma öyle yüzüme!\\r\\r\\r\\r\\r\\r\\r\\r\\r\\r\\r\\nAman cancağazım etme!\\r\\r\\r\\r\\r\\r\\r\\r\\r\\r\\r\\n\\r\\r\\r\\r\\r\\r\\r\\r\\r\\r\\r\\n[Outro]\\r\\r\\r\\r\\r\\r\\r\\r\\r\\r\\r\\nAman cancağazım etme!\\r\\r\\r\\r\\r\\r\\r\\r\\r\\r\\r\\n\\r\\r\\r\\r\\r\\r\\r\\r\\r\\r\\r\\n\\r\\r\\r\\r\\r\\r\\r\\r\\r\\r\\r\\n\\r\\r\\r\\r\\r\\r\\r\\r\\r\\r\\r\\n  \n",
       "366.Gün                     \\r\\r\\r\\r\\r\\r\\r\\r\\r\\r\\r\\n\\r\\r\\r\\r\\r\\r\\r\\r\\r\\r\\r\\n[Verse 1]\\r\\r\\r\\r\\r\\r\\r\\r\\r\\r\\r\\nKurulu bir makinayım, ya arıza yaparsam?\\r\\r\\r\\r\\r\\r\\r\\r\\r\\r\\r\\nİstemediğim halde ya devrelerimi yakarsam?\\r\\r\\r\\r\\r\\r\\r\\r\\r\\r\\r\\nDik durmam gerek, ya yere yıkılırsam?\\r\\r\\r\\r\\r\\r\\r\\r\\r\\r\\r\\nYa bir çuval inciri mahveden ben olursam?\\r\\r\\r\\r\\r\\r\\r\\r\\r\\r\\r\\nBir daha düşünecek olsam aynı yanlışı iki kere yapar mıydım? Sanmam!\\r\\r\\r\\r\\r\\r\\r\\r\\r\\r\\r\\nEyvahlar olsun bir daha kanmam\\r\\r\\r\\r\\r\\r\\r\\r\\r\\r\\r\\nNe de zor oluyor aradıklarımı bulmam\\r\\r\\r\\r\\r\\r\\r\\r\\r\\r\\r\\nSorduğum soruların yanıtını almam\\r\\r\\r\\r\\r\\r\\r\\r\\r\\r\\r\\nCevap belliyse sorusunu sormam\\r\\r\\r\\r\\r\\r\\r\\r\\r\\r\\r\\nDişlerim sivri ama korkma ısırmam\\r\\r\\r\\r\\r\\r\\r\\r\\r\\r\\r\\nBana \"Bit lan artık!\" derler, azalmam\\r\\r\\r\\r\\r\\r\\r\\r\\r\\r\\r\\nSohbeti ne de düzetek, haz almam\\r\\r\\r\\r\\r\\r\\r\\r\\r\\r\\r\\nÇoğundan hoşlandığımı pek sanmam\\r\\r\\r\\r\\r\\r\\r\\r\\r\\r\\r\\nİstediğim anda istediğim yerde olsam\\r\\r\\r\\r\\r\\r\\r\\r\\r\\r\\r\\nSüpermen gibi istediğim yere uçup konsam\\r\\r\\r\\r\\r\\r\\r\\r\\r\\r\\r\\n\\r\\r\\r\\r\\r\\r\\r\\r\\r\\r\\r\\n[Chorus]\\r\\r\\r\\r\\r\\r\\r\\r\\r\\r\\r\\nİnkarı bırak kabullen, kabullenmekten başka çaren yok (yok, yok, yok, yok)\\r\\r\\r\\r\\r\\r\\r\\r\\r\\r\\r\\nNe de zor oluyor aradıklarını bulman (zar zor, zar zor)\\r\\r\\r\\r\\r\\r\\r\\r\\r\\r\\r\\nPek de zor oluyor aradıklarını bulman (zar zor, zar zor)\\r\\r\\r\\r\\r\\r\\r\\r\\r\\r\\r\\nİnkarı bırak kabullen, kabullenmekten başka çaren yok (yok, yok, yok, yok)\\r\\r\\r\\r\\r\\r\\r\\r\\r\\r\\r\\nNe de zor oluyor aradıklarını bulman (zar zor, zar zor)\\r\\r\\r\\r\\r\\r\\r\\r\\r\\r\\r\\nPek de zor oluyor aradıklarını bulman (zar zor, zar zor)\\r\\r\\r\\r\\r\\r\\r\\r\\r\\r\\r\\n\\r\\r\\r\\r\\r\\r\\r\\r\\r\\r\\r\\n[Verse 2]\\r\\r\\r\\r\\r\\r\\r\\r\\r\\r\\r\\n366. gün, yüzüm yine bana dönük\\r\\r\\r\\r\\r\\r\\r\\r\\r\\r\\r\\nMeskenim değişiyor maskenin ardı görüldüğü zaman kırılıyor kaburgan\\r\\r\\r\\r\\r\\r\\r\\r\\r\\r\\r\\nPanda gibi soyu tükeniyor güvenimin\\r\\r\\r\\r\\r\\r\\r\\r\\r\\r\\r\\nOrmandaki ağaç kadar yalnızlık yakından\\r\\r\\r\\r\\r\\r\\r\\r\\r\\r\\r\\nHey, bana güneş olur musun istesem çevremi saran karanlık şu perdeden?\\r\\r\\r\\r\\r\\r\\r\\r\\r\\r\\r\\nBen göremesem de uzakları şimdiden\\r\\r\\r\\r\\r\\r\\r\\r\\r\\r\\r\\nBana her şey çok uzak be kendiliğinden beri kendimi bildiğimden\\r\\r\\r\\r\\r\\r\\r\\r\\r\\r\\r\\nEmin değilim bilmek istediğimden\\r\\r\\r\\r\\r\\r\\r\\r\\r\\r\\r\\nDefalarca yıpranırsın bildiğinden\\r\\r\\r\\r\\r\\r\\r\\r\\r\\r\\r\\nİnkar etme kabullen peşindesin, bildiğinde bildiğine pişman olacağını bilmene rağmen neden?\\r\\r\\r\\r\\r\\r\\r\\r\\r\\r\\r\\nBir tek aklın kaldı onu da senden aşıramazlar\\r\\r\\r\\r\\r\\r\\r\\r\\r\\r\\r\\nAra ve bul çok uzun saklanamazlar\\r\\r\\r\\r\\r\\r\\r\\r\\r\\r\\r\\nNe o?\\r\\r\\r\\r\\r\\r\\r\\r\\r\\r\\r\\nOlacakları biliyorken çok fazla şaşıramazlar\\r\\r\\r\\r\\r\\r\\r\\r\\r\\r\\r\\nTazı durdu artık koşturamazlar\\r\\r\\r\\r\\r\\r\\r\\r\\r\\r\\r\\n\\r\\r\\r\\r\\r\\r\\r\\r\\r\\r\\r\\n[Chorus]\\r\\r\\r\\r\\r\\r\\r\\r\\r\\r\\r\\nİnkarı bırak kabullen, kabullenmekten başka çaren yok (yok, yok, yok, yok)\\r\\r\\r\\r\\r\\r\\r\\r\\r\\r\\r\\nNe de zor oluyor aradıklarını bulman (zar zor, zar zor)\\r\\r\\r\\r\\r\\r\\r\\r\\r\\r\\r\\nPek de zor oluyor aradıklarını bulman (zar zor, zar zor)\\r\\r\\r\\r\\r\\r\\r\\r\\r\\r\\r\\nİnkarı bırak kabullen, kabullenmekten başka çaren yok (yok, yok, yok, yok)\\r\\r\\r\\r\\r\\r\\r\\r\\r\\r\\r\\nNe de zor oluyor aradıklarını bulman (zar zor, zar zor)\\r\\r\\r\\r\\r\\r\\r\\r\\r\\r\\r\\nPek de zor oluyor aradıklarını bulman (zar zor, zar zor)\\r\\r\\r\\r\\r\\r\\r\\r\\r\\r\\r\\n\\r\\r\\r\\r\\r\\r\\r\\r\\r\\r\\r\\n  \n",
       "Nilüfer                                                                                                                                                                                                                                                                                                                                                                                                                                                                                                                                                                                                                                                                                                                                                                                                                                                                                                                                                                                                                                                                                                                                                                                                                                                                                                                                                                                                                                                                                                                                                                                                                                                                                                                                                                                                                                                                                                                                                                                                                                                                                                                                                                                                                                                                                                                                                                                                                                                                                                                                    \\r\\r\\r\\r\\r\\r\\r\\r\\r\\r\\r\\n\\r\\r\\r\\r\\r\\r\\r\\r\\r\\r\\r\\nZamanın eli değdi bize\\r\\r\\r\\r\\r\\r\\r\\r\\r\\r\\r\\nÇoktan değişti her şey\\r\\r\\r\\r\\r\\r\\r\\r\\r\\r\\r\\nAynı değiliz ikimiz de\\r\\r\\r\\r\\r\\r\\r\\r\\r\\r\\r\\nZaaflarına bir gece\\r\\r\\r\\r\\r\\r\\r\\r\\r\\r\\r\\nHatalarına bir nilüfer\\r\\r\\r\\r\\r\\r\\r\\r\\r\\r\\r\\nSevgisizliğine bir kalp verdim\\r\\r\\r\\r\\r\\r\\r\\r\\r\\r\\r\\nArtık geri ver\\r\\r\\r\\r\\r\\r\\r\\r\\r\\r\\r\\nGeri veremezsin aldıklarını\\r\\r\\r\\r\\r\\r\\r\\r\\r\\r\\r\\nArtık geri ver\\r\\r\\r\\r\\r\\r\\r\\r\\r\\r\\r\\nGeri verilmez hiçbir yanılgı\\r\\r\\r\\r\\r\\r\\r\\r\\r\\r\\r\\nYokluğuma emanet et\\r\\r\\r\\r\\r\\r\\r\\r\\r\\r\\r\\nSende benden kalanları\\r\\r\\r\\r\\r\\r\\r\\r\\r\\r\\r\\nHer şeyi al\\r\\r\\r\\r\\r\\r\\r\\r\\r\\r\\r\\nBana beni geri ver\\r\\r\\r\\r\\r\\r\\r\\r\\r\\r\\r\\nBir şansım olsun\\r\\r\\r\\r\\r\\r\\r\\r\\r\\r\\r\\nBaşka yer, başka zaman\\r\\r\\r\\r\\r\\r\\r\\r\\r\\r\\r\\nSensiz ömrüm olsun\\r\\r\\r\\r\\r\\r\\r\\r\\r\\r\\r\\n\\r\\r\\r\\r\\r\\r\\r\\r\\r\\r\\r\\n  "
      ]
     },
     "execution_count": 21,
     "metadata": {},
     "output_type": "execute_result"
    }
   ],
   "source": [
    "turkishSongs =  allSongsUnique[allSongsUnique['lang'] == 'tr']\n",
    "print('The number of Turkish songs that we got the lyrics is {0}'.format(len(turkishSongs)))\n",
    "turkishSongs.head()[['Artist','lyrics']]"
   ]
  },
  {
   "cell_type": "markdown",
   "metadata": {},
   "source": [
    "Now let's create tf_idf matrix and vector (note it might be logical to save this)"
   ]
  },
  {
   "cell_type": "code",
   "execution_count": 22,
   "metadata": {
    "collapsed": true
   },
   "outputs": [],
   "source": [
    "matrixExporter = matrixExporter()"
   ]
  },
  {
   "cell_type": "code",
   "execution_count": 23,
   "metadata": {
    "collapsed": true
   },
   "outputs": [],
   "source": [
    "matrixExporter.setSampleSet(turkishSongs)"
   ]
  },
  {
   "cell_type": "code",
   "execution_count": 24,
   "metadata": {},
   "outputs": [
    {
     "name": "stdout",
     "output_type": "stream",
     "text": [
      "TF-IDF\n",
      "433\n"
     ]
    }
   ],
   "source": [
    "vectorizer, X_tf = matrixExporter.exportMatrix()"
   ]
  },
  {
   "cell_type": "markdown",
   "metadata": {},
   "source": [
    "We have 421 songs and 5000 features "
   ]
  },
  {
   "cell_type": "code",
   "execution_count": 25,
   "metadata": {
    "collapsed": true
   },
   "outputs": [],
   "source": [
    "nbrsLyrics = NearestNeighbors(n_neighbors=4, algorithm='ball_tree').fit(X_tf)"
   ]
  },
  {
   "cell_type": "markdown",
   "metadata": {},
   "source": [
    "## Query "
   ]
  },
  {
   "cell_type": "code",
   "execution_count": 26,
   "metadata": {
    "collapsed": true
   },
   "outputs": [],
   "source": [
    "query = \"\"\"Baktım gökte bir kırmızı bir uçak\n",
    "Bol çelik bol yıldız bol insan\n",
    "Bir gece Sevgi Duvarını aştık\n",
    "Düştüğüm yer öyle açık öyle seçik ki\n",
    "Başucumda bi sen varsın bi de evren\n",
    "Saymıyorum ölüp ölüp dirilttiklerimi\n",
    "Yalnızlığım benim çoğul türkülerim\n",
    "Ne kadar yalansız yaşarsak o kadar iyi\"\"\""
   ]
  },
  {
   "cell_type": "markdown",
   "metadata": {},
   "source": [
    "Let's see stemmed version of the query, vectorize the query and find nearest neigbour"
   ]
  },
  {
   "cell_type": "code",
   "execution_count": 27,
   "metadata": {},
   "outputs": [
    {
     "name": "stdout",
     "output_type": "stream",
     "text": [
      "bakt gök bir kır bir uçak bol çelik bol yıldız bol insan bir geç sevg duvar aş düştük yer öyl açık öyl seçik ki başuç bi sen var bi de evren saymıyor ölüp ölüp dirilttik yalnızlık ben çoğul türkü ne kadar yalans yaşar o kadar iyi\n"
     ]
    }
   ],
   "source": [
    "query = cleanAndStem(query)\n",
    "print(query)\n",
    "queryVec = vectorizer.transform([query]).toarray()"
   ]
  },
  {
   "cell_type": "code",
   "execution_count": 28,
   "metadata": {
    "collapsed": true
   },
   "outputs": [],
   "source": [
    "distances, indices = nbrsLyrics.kneighbors(queryVec)"
   ]
  },
  {
   "cell_type": "code",
   "execution_count": 29,
   "metadata": {},
   "outputs": [
    {
     "name": "stdout",
     "output_type": "stream",
     "text": [
      "                         Artist  \\\n",
      "Track Name                        \n",
      "Intro               Mabel Matiz   \n",
      "Uzağa Gidelim             Hidra   \n",
      "Adını Bilen Yazsın    Murat Boz   \n",
      "İyinin Yanı              Sehabe   \n",
      "\n",
      "                                                                      URL  \n",
      "Track Name                                                                 \n",
      "Intro               https://open.spotify.com/track/0WTyj7Cn8uW3tCxytamYYt  \n",
      "Uzağa Gidelim       https://open.spotify.com/track/2PbPTdiM3H47Fe9GNMYSmE  \n",
      "Adını Bilen Yazsın  https://open.spotify.com/track/3ad2Q4P925rKeYmmknUZ7L  \n",
      "İyinin Yanı         https://open.spotify.com/track/4TfcxDVRkXtTxB7HH9Zmnx  \n",
      "[[1.         1.28478633 1.29213321 1.31306496]]\n"
     ]
    }
   ],
   "source": [
    "for i in indices:\n",
    "    print(turkishSongs.iloc[i][['Artist', 'URL']])\n",
    "    print(distances)\n"
   ]
  },
  {
   "cell_type": "markdown",
   "metadata": {},
   "source": [
    "## Part III)  Prediction of the nearest popular song of a given son (in terms of lyrics) (Turkish)"
   ]
  },
  {
   "cell_type": "markdown",
   "metadata": {},
   "source": [
    "Here the input is a song and the output is songs closest in terms of lyrics (Note run part 2 first)"
   ]
  },
  {
   "cell_type": "markdown",
   "metadata": {},
   "source": [
    "Some libraries and functions"
   ]
  },
  {
   "cell_type": "code",
   "execution_count": 30,
   "metadata": {
    "collapsed": true
   },
   "outputs": [],
   "source": [
    "from urllib.request import Request, urlopen\n",
    "from bs4 import BeautifulSoup\n",
    "from difflib import SequenceMatcher"
   ]
  },
  {
   "cell_type": "code",
   "execution_count": 31,
   "metadata": {
    "collapsed": true
   },
   "outputs": [],
   "source": [
    "\n",
    "def similar(a, b):\n",
    "    return SequenceMatcher(None, a, b).ratio()\n",
    "\n",
    "def genius_get_artists(artist_name, n_results = 1):\n",
    "    global links\n",
    "    token = 'GS742Alm9Wz1kK6WcSbAMIdSfLjUBmDZqvxSRH38tJQftPiF_gapUynol0DfOBNY'\n",
    "    baseURL = 'https://api.genius.com/search?q='\n",
    "    requestURL = baseURL + '%20'+artist_name+'&per_page=' + str(n_results) + '&access_token=' + token\n",
    "    links.append(requestURL)\n",
    "    req = Request(\n",
    "        requestURL,\n",
    "        headers={'User-Agent': 'Mozilla/5.0'})\n",
    "    webpage = urlopen(req).read()\n",
    "    data = json.loads(webpage)\n",
    "    return  data\n",
    "\n",
    "def getLyric(s_url, artistName):\n",
    "    req = Request(\n",
    "        s_url,\n",
    "        headers={'User-Agent': 'Mozilla/5.0'})\n",
    "    webpage = urlopen(req).read()\n",
    "    soup = BeautifulSoup(webpage)\n",
    "    lyric =  soup.findAll(\"div\", {\"class\": \"lyrics\"})[0].text\n",
    "    x = soup.find(\"a\", {'class': \"header_with_cover_art-primary_info-primary_artist\"})\n",
    "\n",
    "    if similar(artistName, x.text) >= 0.3:\n",
    "        return lyric\n",
    "    return  \"\""
   ]
  },
  {
   "cell_type": "markdown",
   "metadata": {},
   "source": [
    "## Query"
   ]
  },
  {
   "cell_type": "code",
   "execution_count": 32,
   "metadata": {
    "collapsed": true
   },
   "outputs": [],
   "source": [
    "nowQuery = 'Tarkan'"
   ]
  },
  {
   "cell_type": "code",
   "execution_count": 33,
   "metadata": {
    "collapsed": true
   },
   "outputs": [],
   "source": [
    "results = sp.search(q=nowQuery, limit=1)\n",
    "tids = []"
   ]
  },
  {
   "cell_type": "code",
   "execution_count": 34,
   "metadata": {},
   "outputs": [
    {
     "name": "stdout",
     "output_type": "stream",
     "text": [
      "Song found\n",
      "Song name : Simarik\n",
      " Arist name : Tarkan\n"
     ]
    }
   ],
   "source": [
    "for i, t in enumerate(results['tracks']['items']):\n",
    "    print('Song found')\n",
    "    print('Song name : ' + t['name'])\n",
    "    print(' Arist name : ' + t['artists'][0]['name'])\n",
    "    artist = t['artists'][0]['name']\n",
    "    song = t['name']\n",
    "    lyrics_query = t['name'] +' ' +  t['artists'][0]['name']\n",
    "    tids.append(t['uri'])"
   ]
  },
  {
   "cell_type": "markdown",
   "metadata": {},
   "source": [
    "let's download the lyric for the given song "
   ]
  },
  {
   "cell_type": "code",
   "execution_count": 35,
   "metadata": {
    "collapsed": true
   },
   "outputs": [],
   "source": [
    "data = genius_get_artists(urllib.parse.quote(lyrics_query))\n",
    "lyricsUrl = data['response']['hits'][0]['result']['url']\n",
    "lyric = getLyric(lyricsUrl, artistName=artist)"
   ]
  },
  {
   "cell_type": "markdown",
   "metadata": {},
   "source": [
    "Let's check out the lyrics found for the query song "
   ]
  },
  {
   "cell_type": "code",
   "execution_count": 36,
   "metadata": {},
   "outputs": [
    {
     "data": {
      "text/plain": [
       "'\\n\\nTakmış koluna elin adamını\\nBeni orta yerimden çatlatıyor\\nAğzında sakızı şişirip şişirip\\nArsız arsız patlatıyor\\nBelki de bu yüzden vuruldum\\nSahibin olamadım ya\\nSığar mı erkekliğe seni şımarık\\nDeğişti mi bu dünya\\nÇekmiş kaşına gözüne sürme\\nDudaklar kıpkırmızı kırıtıyor\\nBir de karşıma geçmiş utanması yok\\nİnadıma inadıma sırıtıyor\\nBiz böyle mi gördük babamızdan\\nEle güne rezil olduk\\nYeni adet gelmiş eski köye vah\\nDostlar mahvolduk\\nSeni gidi fındıkkıran\\nYılanı deliğinden çıkaran\\nKaderim, püsküllü belam\\nYakalarsam\\nSeni gidi fındıkkıran\\nYılanı deliğinden çıkaran\\nKaderim, püsküllü belam\\nYakalarsam\\nOcağına düştüm yavru\\nKucağına düştüm yavru\\nSıcağına düştüm yavru\\nEl aman\\nOcağına düştüm yavru\\nKucağına düştüm yavru\\nSıcağına düştüm yavru\\nEl aman\\nTakmış koluna elin adamını\\nBeni orta yerimden çatlatıyor\\nAğzında sakızı şişirip şişirip\\nArsız arsız patlatıyor\\nBiz böyle mi gördük babamızdan\\nEle güne rezil olduk\\nYeni adet gelmiş eski köye vah\\nDostlar mahvolduk\\nSeni gidi fındıkkıran\\nYılanı deliğinden çıkaran\\nKaderim, püsküllü belam\\nYakalarsam\\nSeni gidi fındıkkıran\\nYılanı deliğinden çıkaran\\nKaderim püsküllü belam\\nYakalarsam\\nOcağına düştüm yavru\\nKucağına düştüm yavru\\nSıcağına düştüm yavru\\nEl aman\\nOcağına düştüm yavru\\nKucağına düştüm yavru\\nSıcağına düştüm yavru\\nEl aman\\n[Seni gidi fındıkkıran\\nYılanı deliğinden çıkaran\\nKaderim, püsküllü belam\\nYakalarsam] (x4)\\n\\n'"
      ]
     },
     "execution_count": 36,
     "metadata": {},
     "output_type": "execute_result"
    }
   ],
   "source": [
    "lyric"
   ]
  },
  {
   "cell_type": "markdown",
   "metadata": {},
   "source": [
    "Let's see the stemmed version "
   ]
  },
  {
   "cell_type": "code",
   "execution_count": 37,
   "metadata": {},
   "outputs": [
    {
     "name": "stdout",
     "output_type": "stream",
     "text": [
      "tak kol el adam ben or yer çatlatıyor ağz sakız şişirip şişirip arsız arsız patlatıyor belk de bu yüz vurul sahip olam ya sığar mı erkeklik sen şımarık değiş mi bu dünya çek kaş göz sürm dudak kıpkır kırıtıyor bir de karş geç utanma yok i̇nadıma inat sırıtıyor biz böyl mi gör baba el gün rezil ol yen adet gel esk kö vah dost mahvol sen git fındıkkıran yılan delik çıkaran kader püskül belam yaka sen git fındıkkıran yılan delik çıkaran kader püskül belam yaka ocak düşt yavru kucak düşt yavru sıcak düşt yavru el aman ocak düşt yavru kucak düşt yavru sıcak düşt yavru el aman tak kol el adam ben or yer çatlatıyor ağz sakız şişirip şişirip arsız arsız patlatıyor biz böyl mi gör baba el gün rezil ol yen adet gel esk kö vah dost mahvol sen git fındıkkıran yılan delik çıkaran kader püskül belam yaka sen git fındıkkıran yılan delik çıkaran kader püskül belam yaka ocak düşt yavru kucak düşt yavru sıcak düşt yavru el aman ocak düşt yavru kucak düşt yavru sıcak düşt yavru el aman sen git fındıkkıran yılan delik çıkaran kader püskül belam yaka x4\n"
     ]
    }
   ],
   "source": [
    "query = cleanAndStem(lyric)\n",
    "print(query)\n",
    "queryVec = vectorizer.transform([query]).toarray()"
   ]
  },
  {
   "cell_type": "code",
   "execution_count": 38,
   "metadata": {
    "collapsed": true
   },
   "outputs": [],
   "source": [
    "distances, indices = nbrsLyrics.kneighbors(queryVec)"
   ]
  },
  {
   "cell_type": "code",
   "execution_count": 39,
   "metadata": {},
   "outputs": [
    {
     "name": "stdout",
     "output_type": "stream",
     "text": [
      "                                        Artist  \\\n",
      "Track Name                                       \n",
      "Intro                              Mabel Matiz   \n",
      "Gece Gölgenin Rahatına Bak       Çağatay Akman   \n",
      "Bana Öyle Bakma                         Teoman   \n",
      "Vah ki Ne Vah               Nil Karaibrahimgil   \n",
      "\n",
      "                                                                              URL  \n",
      "Track Name                                                                         \n",
      "Intro                       https://open.spotify.com/track/0WTyj7Cn8uW3tCxytamYYt  \n",
      "Gece Gölgenin Rahatına Bak  https://open.spotify.com/track/3P31rcl0ym5paqRdwSiZps  \n",
      "Bana Öyle Bakma             https://open.spotify.com/track/4DDMXN0aa2RLeR51FX186y  \n",
      "Vah ki Ne Vah               https://open.spotify.com/track/7cX5CcX6dLYDwqtNPEWJCs  \n",
      "[[1.         1.34143403 1.34797044 1.34801218]]\n"
     ]
    }
   ],
   "source": [
    "for i in indices:\n",
    "    print(turkishSongs.iloc[i][['Artist', 'URL']])\n",
    "    print(distances)"
   ]
  },
  {
   "cell_type": "markdown",
   "metadata": {},
   "source": [
    "## PART IV) Feeling Analysis by lyrics"
   ]
  },
  {
   "cell_type": "markdown",
   "metadata": {},
   "source": [
    "Let's import feeling dictionary (english)"
   ]
  },
  {
   "cell_type": "code",
   "execution_count": 40,
   "metadata": {
    "collapsed": true
   },
   "outputs": [],
   "source": [
    "feelingDf = pd.read_csv('.\\\\otherData\\\\NRC-Emotion-Lexicon-Wordlevel-v0.92.txt', header = None, sep = '\\t', index_col= 0, names= ['feeling','assoc'])"
   ]
  },
  {
   "cell_type": "markdown",
   "metadata": {},
   "source": [
    "Let's see the type of doc"
   ]
  },
  {
   "cell_type": "code",
   "execution_count": 41,
   "metadata": {
    "collapsed": true
   },
   "outputs": [],
   "source": [
    "feelingDf['word'] = feelingDf.index"
   ]
  },
  {
   "cell_type": "markdown",
   "metadata": {},
   "source": [
    "Let's import the dictionary for translating to Turkish"
   ]
  },
  {
   "cell_type": "code",
   "execution_count": 42,
   "metadata": {
    "collapsed": true
   },
   "outputs": [],
   "source": [
    "dictionary = pd.read_csv('.\\\\otherData\\\\dictionary_NRC.csv',header=None)\n",
    "dictionary = pd.Series(dictionary[1].values,index=dictionary[0]).to_dict()\n",
    "feelingDf['tr'] = feelingDf['word'].apply(lambda x: dictionary[x])"
   ]
  },
  {
   "cell_type": "code",
   "execution_count": 43,
   "metadata": {},
   "outputs": [
    {
     "data": {
      "text/html": [
       "<div>\n",
       "<style scoped>\n",
       "    .dataframe tbody tr th:only-of-type {\n",
       "        vertical-align: middle;\n",
       "    }\n",
       "\n",
       "    .dataframe tbody tr th {\n",
       "        vertical-align: top;\n",
       "    }\n",
       "\n",
       "    .dataframe thead th {\n",
       "        text-align: right;\n",
       "    }\n",
       "</style>\n",
       "<table border=\"1\" class=\"dataframe\">\n",
       "  <thead>\n",
       "    <tr style=\"text-align: right;\">\n",
       "      <th></th>\n",
       "      <th>feeling</th>\n",
       "      <th>assoc</th>\n",
       "      <th>word</th>\n",
       "      <th>tr</th>\n",
       "    </tr>\n",
       "  </thead>\n",
       "  <tbody>\n",
       "    <tr>\n",
       "      <th>aback</th>\n",
       "      <td>anger</td>\n",
       "      <td>0</td>\n",
       "      <td>aback</td>\n",
       "      <td>pupada</td>\n",
       "    </tr>\n",
       "    <tr>\n",
       "      <th>aback</th>\n",
       "      <td>anticipation</td>\n",
       "      <td>0</td>\n",
       "      <td>aback</td>\n",
       "      <td>pupada</td>\n",
       "    </tr>\n",
       "    <tr>\n",
       "      <th>aback</th>\n",
       "      <td>disgust</td>\n",
       "      <td>0</td>\n",
       "      <td>aback</td>\n",
       "      <td>pupada</td>\n",
       "    </tr>\n",
       "    <tr>\n",
       "      <th>aback</th>\n",
       "      <td>fear</td>\n",
       "      <td>0</td>\n",
       "      <td>aback</td>\n",
       "      <td>pupada</td>\n",
       "    </tr>\n",
       "    <tr>\n",
       "      <th>aback</th>\n",
       "      <td>joy</td>\n",
       "      <td>0</td>\n",
       "      <td>aback</td>\n",
       "      <td>pupada</td>\n",
       "    </tr>\n",
       "  </tbody>\n",
       "</table>\n",
       "</div>"
      ],
      "text/plain": [
       "            feeling  assoc   word      tr\n",
       "aback         anger      0  aback  pupada\n",
       "aback  anticipation      0  aback  pupada\n",
       "aback       disgust      0  aback  pupada\n",
       "aback          fear      0  aback  pupada\n",
       "aback           joy      0  aback  pupada"
      ]
     },
     "execution_count": 43,
     "metadata": {},
     "output_type": "execute_result"
    }
   ],
   "source": [
    "feelingDf.head()"
   ]
  },
  {
   "cell_type": "markdown",
   "metadata": {},
   "source": [
    "Let's create X matrix"
   ]
  },
  {
   "cell_type": "code",
   "execution_count": 44,
   "metadata": {
    "collapsed": true
   },
   "outputs": [],
   "source": [
    "X_feeling = pd.read_csv('feelingX.csv', index_col='Track Name')"
   ]
  },
  {
   "cell_type": "code",
   "execution_count": 45,
   "metadata": {},
   "outputs": [
    {
     "data": {
      "text/html": [
       "<div>\n",
       "<style scoped>\n",
       "    .dataframe tbody tr th:only-of-type {\n",
       "        vertical-align: middle;\n",
       "    }\n",
       "\n",
       "    .dataframe tbody tr th {\n",
       "        vertical-align: top;\n",
       "    }\n",
       "\n",
       "    .dataframe thead th {\n",
       "        text-align: right;\n",
       "    }\n",
       "</style>\n",
       "<table border=\"1\" class=\"dataframe\">\n",
       "  <thead>\n",
       "    <tr style=\"text-align: right;\">\n",
       "      <th></th>\n",
       "      <th>anger</th>\n",
       "      <th>anticipation</th>\n",
       "      <th>disgust</th>\n",
       "      <th>fear</th>\n",
       "      <th>joy</th>\n",
       "      <th>negative</th>\n",
       "      <th>positive</th>\n",
       "      <th>sadness</th>\n",
       "      <th>surprise</th>\n",
       "      <th>trust</th>\n",
       "    </tr>\n",
       "    <tr>\n",
       "      <th>Track Name</th>\n",
       "      <th></th>\n",
       "      <th></th>\n",
       "      <th></th>\n",
       "      <th></th>\n",
       "      <th></th>\n",
       "      <th></th>\n",
       "      <th></th>\n",
       "      <th></th>\n",
       "      <th></th>\n",
       "      <th></th>\n",
       "    </tr>\n",
       "  </thead>\n",
       "  <tbody>\n",
       "    <tr>\n",
       "      <th>1000 Parça</th>\n",
       "      <td>29</td>\n",
       "      <td>18</td>\n",
       "      <td>23</td>\n",
       "      <td>24</td>\n",
       "      <td>14</td>\n",
       "      <td>51</td>\n",
       "      <td>40</td>\n",
       "      <td>29</td>\n",
       "      <td>9</td>\n",
       "      <td>21</td>\n",
       "    </tr>\n",
       "    <tr>\n",
       "      <th>#Biziz - feat. Lil Bege</th>\n",
       "      <td>15</td>\n",
       "      <td>12</td>\n",
       "      <td>8</td>\n",
       "      <td>26</td>\n",
       "      <td>14</td>\n",
       "      <td>41</td>\n",
       "      <td>29</td>\n",
       "      <td>26</td>\n",
       "      <td>6</td>\n",
       "      <td>18</td>\n",
       "    </tr>\n",
       "    <tr>\n",
       "      <th>2013</th>\n",
       "      <td>3</td>\n",
       "      <td>2</td>\n",
       "      <td>0</td>\n",
       "      <td>7</td>\n",
       "      <td>4</td>\n",
       "      <td>18</td>\n",
       "      <td>7</td>\n",
       "      <td>14</td>\n",
       "      <td>1</td>\n",
       "      <td>0</td>\n",
       "    </tr>\n",
       "  </tbody>\n",
       "</table>\n",
       "</div>"
      ],
      "text/plain": [
       "                         anger  anticipation  disgust  fear  joy  negative  \\\n",
       "Track Name                                                                   \n",
       "1000 Parça                  29            18       23    24   14        51   \n",
       "#Biziz - feat. Lil Bege     15            12        8    26   14        41   \n",
       "2013                         3             2        0     7    4        18   \n",
       "\n",
       "                         positive  sadness  surprise  trust  \n",
       "Track Name                                                   \n",
       "1000 Parça                     40       29         9     21  \n",
       "#Biziz - feat. Lil Bege        29       26         6     18  \n",
       "2013                            7       14         1      0  "
      ]
     },
     "execution_count": 45,
     "metadata": {},
     "output_type": "execute_result"
    }
   ],
   "source": [
    "X_feeling.head()\n"
   ]
  },
  {
   "cell_type": "code",
   "execution_count": 46,
   "metadata": {
    "collapsed": true
   },
   "outputs": [],
   "source": [
    "scaler = StandardScaler()\n",
    "X_feeling = scaler.fit_transform(X_feeling)"
   ]
  },
  {
   "cell_type": "code",
   "execution_count": 47,
   "metadata": {
    "collapsed": true
   },
   "outputs": [],
   "source": [
    "nbrsFeeling = NearestNeighbors(n_neighbors=4, algorithm='ball_tree').fit(X_feeling)"
   ]
  },
  {
   "cell_type": "markdown",
   "metadata": {},
   "source": [
    "## Query"
   ]
  },
  {
   "cell_type": "code",
   "execution_count": 48,
   "metadata": {
    "collapsed": true
   },
   "outputs": [],
   "source": [
    "nowQuery = 'tarkan kuzu kuzu'"
   ]
  },
  {
   "cell_type": "code",
   "execution_count": 49,
   "metadata": {},
   "outputs": [
    {
     "name": "stdout",
     "output_type": "stream",
     "text": [
      "Song found\n",
      "Song name : Kuzu Kuzu\n",
      " Arist name : Tarkan\n"
     ]
    }
   ],
   "source": [
    "results = sp.search(q=nowQuery, limit=1)\n",
    "tids = []\n",
    "for i, t in enumerate(results['tracks']['items']):\n",
    "    print('Song found')\n",
    "    print('Song name : ' + t['name'])\n",
    "    print(' Arist name : ' + t['artists'][0]['name'])\n",
    "    artist = t['artists'][0]['name']\n",
    "    song = t['name']\n",
    "    lyrics_query = t['name'] +' ' +  t['artists'][0]['name']\n",
    "    tids.append(t['uri'])"
   ]
  },
  {
   "cell_type": "code",
   "execution_count": 50,
   "metadata": {
    "collapsed": true
   },
   "outputs": [],
   "source": [
    "data = genius_get_artists(urllib.parse.quote(lyrics_query))\n",
    "lyricsUrl = data['response']['hits'][0]['result']['url']\n",
    "lyric = getLyric(lyricsUrl, artistName=artist)\n",
    "lyric = cleanText(lyric)"
   ]
  },
  {
   "cell_type": "code",
   "execution_count": 51,
   "metadata": {},
   "outputs": [
    {
     "ename": "KeyboardInterrupt",
     "evalue": "",
     "output_type": "error",
     "traceback": [
      "\u001b[1;31m---------------------------------------------------------------------------\u001b[0m",
      "\u001b[1;31mKeyboardInterrupt\u001b[0m                         Traceback (most recent call last)",
      "\u001b[1;32m<timed exec>\u001b[0m in \u001b[0;36m<module>\u001b[1;34m()\u001b[0m\n",
      "\u001b[1;32mc:\\users\\user\\appdata\\local\\programs\\python\\python36\\lib\\site-packages\\pandas\\core\\strings.py\u001b[0m in \u001b[0;36mwrapper3\u001b[1;34m(self, pat, na)\u001b[0m\n\u001b[0;32m   1857\u001b[0m \u001b[1;33m\u001b[0m\u001b[0m\n\u001b[0;32m   1858\u001b[0m     \u001b[1;32mdef\u001b[0m \u001b[0mwrapper3\u001b[0m\u001b[1;33m(\u001b[0m\u001b[0mself\u001b[0m\u001b[1;33m,\u001b[0m \u001b[0mpat\u001b[0m\u001b[1;33m,\u001b[0m \u001b[0mna\u001b[0m\u001b[1;33m=\u001b[0m\u001b[0mnp\u001b[0m\u001b[1;33m.\u001b[0m\u001b[0mnan\u001b[0m\u001b[1;33m)\u001b[0m\u001b[1;33m:\u001b[0m\u001b[1;33m\u001b[0m\u001b[0m\n\u001b[1;32m-> 1859\u001b[1;33m         \u001b[0mresult\u001b[0m \u001b[1;33m=\u001b[0m \u001b[0mf\u001b[0m\u001b[1;33m(\u001b[0m\u001b[0mself\u001b[0m\u001b[1;33m.\u001b[0m\u001b[0m_data\u001b[0m\u001b[1;33m,\u001b[0m \u001b[0mpat\u001b[0m\u001b[1;33m,\u001b[0m \u001b[0mna\u001b[0m\u001b[1;33m=\u001b[0m\u001b[0mna\u001b[0m\u001b[1;33m)\u001b[0m\u001b[1;33m\u001b[0m\u001b[0m\n\u001b[0m\u001b[0;32m   1860\u001b[0m         \u001b[1;32mreturn\u001b[0m \u001b[0mself\u001b[0m\u001b[1;33m.\u001b[0m\u001b[0m_wrap_result\u001b[0m\u001b[1;33m(\u001b[0m\u001b[0mresult\u001b[0m\u001b[1;33m)\u001b[0m\u001b[1;33m\u001b[0m\u001b[0m\n\u001b[0;32m   1861\u001b[0m \u001b[1;33m\u001b[0m\u001b[0m\n",
      "\u001b[1;32mc:\\users\\user\\appdata\\local\\programs\\python\\python36\\lib\\site-packages\\pandas\\core\\strings.py\u001b[0m in \u001b[0;36mstr_startswith\u001b[1;34m(arr, pat, na)\u001b[0m\n\u001b[0;32m    456\u001b[0m     \"\"\"\n\u001b[0;32m    457\u001b[0m     \u001b[0mf\u001b[0m \u001b[1;33m=\u001b[0m \u001b[1;32mlambda\u001b[0m \u001b[0mx\u001b[0m\u001b[1;33m:\u001b[0m \u001b[0mx\u001b[0m\u001b[1;33m.\u001b[0m\u001b[0mstartswith\u001b[0m\u001b[1;33m(\u001b[0m\u001b[0mpat\u001b[0m\u001b[1;33m)\u001b[0m\u001b[1;33m\u001b[0m\u001b[0m\n\u001b[1;32m--> 458\u001b[1;33m     \u001b[1;32mreturn\u001b[0m \u001b[0m_na_map\u001b[0m\u001b[1;33m(\u001b[0m\u001b[0mf\u001b[0m\u001b[1;33m,\u001b[0m \u001b[0marr\u001b[0m\u001b[1;33m,\u001b[0m \u001b[0mna\u001b[0m\u001b[1;33m,\u001b[0m \u001b[0mdtype\u001b[0m\u001b[1;33m=\u001b[0m\u001b[0mbool\u001b[0m\u001b[1;33m)\u001b[0m\u001b[1;33m\u001b[0m\u001b[0m\n\u001b[0m\u001b[0;32m    459\u001b[0m \u001b[1;33m\u001b[0m\u001b[0m\n\u001b[0;32m    460\u001b[0m \u001b[1;33m\u001b[0m\u001b[0m\n",
      "\u001b[1;32mc:\\users\\user\\appdata\\local\\programs\\python\\python36\\lib\\site-packages\\pandas\\core\\strings.py\u001b[0m in \u001b[0;36m_na_map\u001b[1;34m(f, arr, na_result, dtype)\u001b[0m\n\u001b[0;32m    148\u001b[0m \u001b[1;32mdef\u001b[0m \u001b[0m_na_map\u001b[0m\u001b[1;33m(\u001b[0m\u001b[0mf\u001b[0m\u001b[1;33m,\u001b[0m \u001b[0marr\u001b[0m\u001b[1;33m,\u001b[0m \u001b[0mna_result\u001b[0m\u001b[1;33m=\u001b[0m\u001b[0mnp\u001b[0m\u001b[1;33m.\u001b[0m\u001b[0mnan\u001b[0m\u001b[1;33m,\u001b[0m \u001b[0mdtype\u001b[0m\u001b[1;33m=\u001b[0m\u001b[0mobject\u001b[0m\u001b[1;33m)\u001b[0m\u001b[1;33m:\u001b[0m\u001b[1;33m\u001b[0m\u001b[0m\n\u001b[0;32m    149\u001b[0m     \u001b[1;31m# should really _check_ for NA\u001b[0m\u001b[1;33m\u001b[0m\u001b[1;33m\u001b[0m\u001b[0m\n\u001b[1;32m--> 150\u001b[1;33m     \u001b[1;32mreturn\u001b[0m \u001b[0m_map\u001b[0m\u001b[1;33m(\u001b[0m\u001b[0mf\u001b[0m\u001b[1;33m,\u001b[0m \u001b[0marr\u001b[0m\u001b[1;33m,\u001b[0m \u001b[0mna_mask\u001b[0m\u001b[1;33m=\u001b[0m\u001b[1;32mTrue\u001b[0m\u001b[1;33m,\u001b[0m \u001b[0mna_value\u001b[0m\u001b[1;33m=\u001b[0m\u001b[0mna_result\u001b[0m\u001b[1;33m,\u001b[0m \u001b[0mdtype\u001b[0m\u001b[1;33m=\u001b[0m\u001b[0mdtype\u001b[0m\u001b[1;33m)\u001b[0m\u001b[1;33m\u001b[0m\u001b[0m\n\u001b[0m\u001b[0;32m    151\u001b[0m \u001b[1;33m\u001b[0m\u001b[0m\n\u001b[0;32m    152\u001b[0m \u001b[1;33m\u001b[0m\u001b[0m\n",
      "\u001b[1;32mc:\\users\\user\\appdata\\local\\programs\\python\\python36\\lib\\site-packages\\pandas\\core\\strings.py\u001b[0m in \u001b[0;36m_map\u001b[1;34m(f, arr, na_mask, na_value, dtype)\u001b[0m\n\u001b[0;32m    163\u001b[0m         \u001b[1;32mtry\u001b[0m\u001b[1;33m:\u001b[0m\u001b[1;33m\u001b[0m\u001b[0m\n\u001b[0;32m    164\u001b[0m             \u001b[0mconvert\u001b[0m \u001b[1;33m=\u001b[0m \u001b[1;32mnot\u001b[0m \u001b[0mall\u001b[0m\u001b[1;33m(\u001b[0m\u001b[0mmask\u001b[0m\u001b[1;33m)\u001b[0m\u001b[1;33m\u001b[0m\u001b[0m\n\u001b[1;32m--> 165\u001b[1;33m             \u001b[0mresult\u001b[0m \u001b[1;33m=\u001b[0m \u001b[0mlib\u001b[0m\u001b[1;33m.\u001b[0m\u001b[0mmap_infer_mask\u001b[0m\u001b[1;33m(\u001b[0m\u001b[0marr\u001b[0m\u001b[1;33m,\u001b[0m \u001b[0mf\u001b[0m\u001b[1;33m,\u001b[0m \u001b[0mmask\u001b[0m\u001b[1;33m.\u001b[0m\u001b[0mview\u001b[0m\u001b[1;33m(\u001b[0m\u001b[0mnp\u001b[0m\u001b[1;33m.\u001b[0m\u001b[0muint8\u001b[0m\u001b[1;33m)\u001b[0m\u001b[1;33m,\u001b[0m \u001b[0mconvert\u001b[0m\u001b[1;33m)\u001b[0m\u001b[1;33m\u001b[0m\u001b[0m\n\u001b[0m\u001b[0;32m    166\u001b[0m         \u001b[1;32mexcept\u001b[0m \u001b[1;33m(\u001b[0m\u001b[0mTypeError\u001b[0m\u001b[1;33m,\u001b[0m \u001b[0mAttributeError\u001b[0m\u001b[1;33m)\u001b[0m \u001b[1;32mas\u001b[0m \u001b[0me\u001b[0m\u001b[1;33m:\u001b[0m\u001b[1;33m\u001b[0m\u001b[0m\n\u001b[0;32m    167\u001b[0m             \u001b[1;31m# Reraise the exception if callable `f` got wrong number of args.\u001b[0m\u001b[1;33m\u001b[0m\u001b[1;33m\u001b[0m\u001b[0m\n",
      "\u001b[1;32mpandas/_libs/src\\inference.pyx\u001b[0m in \u001b[0;36mpandas._libs.lib.map_infer_mask\u001b[1;34m()\u001b[0m\n",
      "\u001b[1;32mc:\\users\\user\\appdata\\local\\programs\\python\\python36\\lib\\site-packages\\pandas\\core\\strings.py\u001b[0m in \u001b[0;36m<lambda>\u001b[1;34m(x)\u001b[0m\n\u001b[0;32m    455\u001b[0m     \u001b[0mdtype\u001b[0m\u001b[1;33m:\u001b[0m \u001b[0mbool\u001b[0m\u001b[1;33m\u001b[0m\u001b[0m\n\u001b[0;32m    456\u001b[0m     \"\"\"\n\u001b[1;32m--> 457\u001b[1;33m     \u001b[0mf\u001b[0m \u001b[1;33m=\u001b[0m \u001b[1;32mlambda\u001b[0m \u001b[0mx\u001b[0m\u001b[1;33m:\u001b[0m \u001b[0mx\u001b[0m\u001b[1;33m.\u001b[0m\u001b[0mstartswith\u001b[0m\u001b[1;33m(\u001b[0m\u001b[0mpat\u001b[0m\u001b[1;33m)\u001b[0m\u001b[1;33m\u001b[0m\u001b[0m\n\u001b[0m\u001b[0;32m    458\u001b[0m     \u001b[1;32mreturn\u001b[0m \u001b[0m_na_map\u001b[0m\u001b[1;33m(\u001b[0m\u001b[0mf\u001b[0m\u001b[1;33m,\u001b[0m \u001b[0marr\u001b[0m\u001b[1;33m,\u001b[0m \u001b[0mna\u001b[0m\u001b[1;33m,\u001b[0m \u001b[0mdtype\u001b[0m\u001b[1;33m=\u001b[0m\u001b[0mbool\u001b[0m\u001b[1;33m)\u001b[0m\u001b[1;33m\u001b[0m\u001b[0m\n\u001b[0;32m    459\u001b[0m \u001b[1;33m\u001b[0m\u001b[0m\n",
      "\u001b[1;31mKeyboardInterrupt\u001b[0m: "
     ]
    }
   ],
   "source": [
    "%%time\n",
    "out = []\n",
    "\n",
    "for word in lyric.split()[:]:\n",
    "    wordOrigin = word\n",
    "#     print(word)\n",
    "#     print(\"-------\")\n",
    "    word = word.lower()\n",
    "    word = stemmer.stem(word)\n",
    "#     print(word)\n",
    "    closest =  feelingDf[feelingDf['tr'].str.startswith(word[0])]['tr'].apply(lambda x: similar(x, word))\n",
    "    i = closest.argmax()\n",
    "    if closest.values.max()>0.8:\n",
    "        out.append(i)\n",
    "#         print(wordOrigin)\n",
    "#         print(word)\n"
   ]
  },
  {
   "cell_type": "code",
   "execution_count": 52,
   "metadata": {
    "collapsed": true
   },
   "outputs": [],
   "source": [
    "queryVec = feelingDf.loc[out].groupby('feeling').sum().transpose().loc[['assoc']]  \n",
    "queryVec = scaler.transform(queryVec)"
   ]
  },
  {
   "cell_type": "code",
   "execution_count": 53,
   "metadata": {},
   "outputs": [
    {
     "ename": "ValueError",
     "evalue": "Expected n_neighbors <= n_samples,  but n_samples = 3, n_neighbors = 4",
     "output_type": "error",
     "traceback": [
      "\u001b[1;31m---------------------------------------------------------------------------\u001b[0m",
      "\u001b[1;31mValueError\u001b[0m                                Traceback (most recent call last)",
      "\u001b[1;32m<ipython-input-53-95ca7f423c0f>\u001b[0m in \u001b[0;36m<module>\u001b[1;34m()\u001b[0m\n\u001b[1;32m----> 1\u001b[1;33m \u001b[0mdistances\u001b[0m\u001b[1;33m,\u001b[0m \u001b[0mindices\u001b[0m \u001b[1;33m=\u001b[0m \u001b[0mnbrsFeeling\u001b[0m\u001b[1;33m.\u001b[0m\u001b[0mkneighbors\u001b[0m\u001b[1;33m(\u001b[0m\u001b[0mqueryVec\u001b[0m\u001b[1;33m)\u001b[0m\u001b[1;33m\u001b[0m\u001b[0m\n\u001b[0m",
      "\u001b[1;32mc:\\users\\user\\appdata\\local\\programs\\python\\python36\\lib\\site-packages\\sklearn\\neighbors\\base.py\u001b[0m in \u001b[0;36mkneighbors\u001b[1;34m(self, X, n_neighbors, return_distance)\u001b[0m\n\u001b[0;32m    345\u001b[0m                 \u001b[1;34m\"Expected n_neighbors <= n_samples, \"\u001b[0m\u001b[1;33m\u001b[0m\u001b[0m\n\u001b[0;32m    346\u001b[0m                 \u001b[1;34m\" but n_samples = %d, n_neighbors = %d\"\u001b[0m \u001b[1;33m%\u001b[0m\u001b[1;33m\u001b[0m\u001b[0m\n\u001b[1;32m--> 347\u001b[1;33m                 \u001b[1;33m(\u001b[0m\u001b[0mtrain_size\u001b[0m\u001b[1;33m,\u001b[0m \u001b[0mn_neighbors\u001b[0m\u001b[1;33m)\u001b[0m\u001b[1;33m\u001b[0m\u001b[0m\n\u001b[0m\u001b[0;32m    348\u001b[0m             )\n\u001b[0;32m    349\u001b[0m         \u001b[0mn_samples\u001b[0m\u001b[1;33m,\u001b[0m \u001b[0m_\u001b[0m \u001b[1;33m=\u001b[0m \u001b[0mX\u001b[0m\u001b[1;33m.\u001b[0m\u001b[0mshape\u001b[0m\u001b[1;33m\u001b[0m\u001b[0m\n",
      "\u001b[1;31mValueError\u001b[0m: Expected n_neighbors <= n_samples,  but n_samples = 3, n_neighbors = 4"
     ]
    }
   ],
   "source": [
    "distances, indices = nbrsFeeling.kneighbors(queryVec)"
   ]
  },
  {
   "cell_type": "code",
   "execution_count": 54,
   "metadata": {},
   "outputs": [
    {
     "name": "stdout",
     "output_type": "stream",
     "text": [
      "                                        Artist  \\\n",
      "Track Name                                       \n",
      "Intro                              Mabel Matiz   \n",
      "Gece Gölgenin Rahatına Bak       Çağatay Akman   \n",
      "Bana Öyle Bakma                         Teoman   \n",
      "Vah ki Ne Vah               Nil Karaibrahimgil   \n",
      "\n",
      "                                                                              URL  \n",
      "Track Name                                                                         \n",
      "Intro                       https://open.spotify.com/track/0WTyj7Cn8uW3tCxytamYYt  \n",
      "Gece Gölgenin Rahatına Bak  https://open.spotify.com/track/3P31rcl0ym5paqRdwSiZps  \n",
      "Bana Öyle Bakma             https://open.spotify.com/track/4DDMXN0aa2RLeR51FX186y  \n",
      "Vah ki Ne Vah               https://open.spotify.com/track/7cX5CcX6dLYDwqtNPEWJCs  \n",
      "[[1.         1.34143403 1.34797044 1.34801218]]\n"
     ]
    }
   ],
   "source": [
    "for i in indices:\n",
    "    print(turkishSongs.iloc[i][['Artist', 'URL']])\n",
    "    print(distances)"
   ]
  },
  {
   "cell_type": "markdown",
   "metadata": {},
   "source": [
    "## Part V) Most N songs from the artist "
   ]
  },
  {
   "cell_type": "code",
   "execution_count": 55,
   "metadata": {
    "collapsed": true
   },
   "outputs": [],
   "source": [
    "N = 3\n",
    "artist = 'Barış Manço'\n",
    "artistsDfDict = dict()\n",
    "df = getSongsDf(artist).sort_values('valence')[['artist_name', 'name',  'valence']]\n",
    "realArtistName = df['artist_name'].mode().iloc[0]\n",
    "df = df[df['artist_name'] == realArtistName]"
   ]
  },
  {
   "cell_type": "markdown",
   "metadata": {},
   "source": [
    "Saddest N song"
   ]
  },
  {
   "cell_type": "code",
   "execution_count": 56,
   "metadata": {},
   "outputs": [
    {
     "data": {
      "text/html": [
       "<div>\n",
       "<style scoped>\n",
       "    .dataframe tbody tr th:only-of-type {\n",
       "        vertical-align: middle;\n",
       "    }\n",
       "\n",
       "    .dataframe tbody tr th {\n",
       "        vertical-align: top;\n",
       "    }\n",
       "\n",
       "    .dataframe thead th {\n",
       "        text-align: right;\n",
       "    }\n",
       "</style>\n",
       "<table border=\"1\" class=\"dataframe\">\n",
       "  <thead>\n",
       "    <tr style=\"text-align: right;\">\n",
       "      <th></th>\n",
       "      <th>artist_name</th>\n",
       "      <th>name</th>\n",
       "      <th>valence</th>\n",
       "    </tr>\n",
       "  </thead>\n",
       "  <tbody>\n",
       "    <tr>\n",
       "      <th>3</th>\n",
       "      <td>Barış Manço</td>\n",
       "      <td>Dağlar Dağlar</td>\n",
       "      <td>0.109</td>\n",
       "    </tr>\n",
       "    <tr>\n",
       "      <th>39</th>\n",
       "      <td>Barış Manço</td>\n",
       "      <td>Uzun İnce Bir Yoldayım</td>\n",
       "      <td>0.120</td>\n",
       "    </tr>\n",
       "    <tr>\n",
       "      <th>2</th>\n",
       "      <td>Barış Manço</td>\n",
       "      <td>Gül Pembe</td>\n",
       "      <td>0.256</td>\n",
       "    </tr>\n",
       "  </tbody>\n",
       "</table>\n",
       "</div>"
      ],
      "text/plain": [
       "    artist_name                    name  valence\n",
       "3   Barış Manço           Dağlar Dağlar    0.109\n",
       "39  Barış Manço  Uzun İnce Bir Yoldayım    0.120\n",
       "2   Barış Manço               Gül Pembe    0.256"
      ]
     },
     "execution_count": 56,
     "metadata": {},
     "output_type": "execute_result"
    }
   ],
   "source": [
    "df.iloc[:N,:]"
   ]
  },
  {
   "cell_type": "markdown",
   "metadata": {},
   "source": [
    "Happiest N song"
   ]
  },
  {
   "cell_type": "code",
   "execution_count": 57,
   "metadata": {},
   "outputs": [
    {
     "data": {
      "text/html": [
       "<div>\n",
       "<style scoped>\n",
       "    .dataframe tbody tr th:only-of-type {\n",
       "        vertical-align: middle;\n",
       "    }\n",
       "\n",
       "    .dataframe tbody tr th {\n",
       "        vertical-align: top;\n",
       "    }\n",
       "\n",
       "    .dataframe thead th {\n",
       "        text-align: right;\n",
       "    }\n",
       "</style>\n",
       "<table border=\"1\" class=\"dataframe\">\n",
       "  <thead>\n",
       "    <tr style=\"text-align: right;\">\n",
       "      <th></th>\n",
       "      <th>artist_name</th>\n",
       "      <th>name</th>\n",
       "      <th>valence</th>\n",
       "    </tr>\n",
       "  </thead>\n",
       "  <tbody>\n",
       "    <tr>\n",
       "      <th>25</th>\n",
       "      <td>Barış Manço</td>\n",
       "      <td>Aman Yavaş Aheste</td>\n",
       "      <td>0.941</td>\n",
       "    </tr>\n",
       "    <tr>\n",
       "      <th>29</th>\n",
       "      <td>Barış Manço</td>\n",
       "      <td>Hal Hal</td>\n",
       "      <td>0.975</td>\n",
       "    </tr>\n",
       "    <tr>\n",
       "      <th>7</th>\n",
       "      <td>Barış Manço</td>\n",
       "      <td>Hal Hal</td>\n",
       "      <td>0.975</td>\n",
       "    </tr>\n",
       "  </tbody>\n",
       "</table>\n",
       "</div>"
      ],
      "text/plain": [
       "    artist_name               name  valence\n",
       "25  Barış Manço  Aman Yavaş Aheste    0.941\n",
       "29  Barış Manço            Hal Hal    0.975\n",
       "7   Barış Manço            Hal Hal    0.975"
      ]
     },
     "execution_count": 57,
     "metadata": {},
     "output_type": "execute_result"
    }
   ],
   "source": [
    "df.iloc[-N:,:]"
   ]
  },
  {
   "cell_type": "markdown",
   "metadata": {},
   "source": [
    "## Part VI) Recommend me a random song for my feeling level"
   ]
  },
  {
   "cell_type": "code",
   "execution_count": 58,
   "metadata": {
    "collapsed": true
   },
   "outputs": [],
   "source": [
    "duyguLevel = 0\n",
    "duyguLevel = duyguLevel / 10\n"
   ]
  },
  {
   "cell_type": "code",
   "execution_count": 59,
   "metadata": {},
   "outputs": [
    {
     "data": {
      "text/html": [
       "<div>\n",
       "<style scoped>\n",
       "    .dataframe tbody tr th:only-of-type {\n",
       "        vertical-align: middle;\n",
       "    }\n",
       "\n",
       "    .dataframe tbody tr th {\n",
       "        vertical-align: top;\n",
       "    }\n",
       "\n",
       "    .dataframe thead th {\n",
       "        text-align: right;\n",
       "    }\n",
       "</style>\n",
       "<table border=\"1\" class=\"dataframe\">\n",
       "  <thead>\n",
       "    <tr style=\"text-align: right;\">\n",
       "      <th></th>\n",
       "      <th>Artist</th>\n",
       "      <th>valence</th>\n",
       "      <th>URL</th>\n",
       "    </tr>\n",
       "    <tr>\n",
       "      <th>Track Name</th>\n",
       "      <th></th>\n",
       "      <th></th>\n",
       "      <th></th>\n",
       "    </tr>\n",
       "  </thead>\n",
       "  <tbody>\n",
       "    <tr>\n",
       "      <th>Deli Ozan</th>\n",
       "      <td>Allame</td>\n",
       "      <td>0.0390</td>\n",
       "      <td>https://open.spotify.com/track/633Oe1mFffNTIMlfojXzAd</td>\n",
       "    </tr>\n",
       "    <tr>\n",
       "      <th>Migration</th>\n",
       "      <td>Bonobo</td>\n",
       "      <td>0.0392</td>\n",
       "      <td>https://open.spotify.com/track/61g7oQKm8DFEL7r2g9LS8x</td>\n",
       "    </tr>\n",
       "    <tr>\n",
       "      <th>Eyes Closed</th>\n",
       "      <td>Halsey</td>\n",
       "      <td>0.0453</td>\n",
       "      <td>https://open.spotify.com/track/1xa5pXOwLoxHuBDU0JiUdn</td>\n",
       "    </tr>\n",
       "    <tr>\n",
       "      <th>\"All That Is or Ever Was or Ever Will Be\"</th>\n",
       "      <td>Alan Silvestri</td>\n",
       "      <td>0.0338</td>\n",
       "      <td>https://open.spotify.com/track/1Ig5PYAhZaCiCVAdIEcdAC</td>\n",
       "    </tr>\n",
       "    <tr>\n",
       "      <th>Gözleri Aşka Gülen</th>\n",
       "      <td>Nilipek.</td>\n",
       "      <td>0.0398</td>\n",
       "      <td>https://open.spotify.com/track/4qzZm5EIdFurBpDieEmVc9</td>\n",
       "    </tr>\n",
       "  </tbody>\n",
       "</table>\n",
       "</div>"
      ],
      "text/plain": [
       "                                                   Artist  valence  \\\n",
       "Track Name                                                           \n",
       "Deli Ozan                                          Allame   0.0390   \n",
       "Migration                                          Bonobo   0.0392   \n",
       "Eyes Closed                                        Halsey   0.0453   \n",
       "\"All That Is or Ever Was or Ever Will Be\"  Alan Silvestri   0.0338   \n",
       "Gözleri Aşka Gülen                               Nilipek.   0.0398   \n",
       "\n",
       "                                                                                             URL  \n",
       "Track Name                                                                                        \n",
       "Deli Ozan                                  https://open.spotify.com/track/633Oe1mFffNTIMlfojXzAd  \n",
       "Migration                                  https://open.spotify.com/track/61g7oQKm8DFEL7r2g9LS8x  \n",
       "Eyes Closed                                https://open.spotify.com/track/1xa5pXOwLoxHuBDU0JiUdn  \n",
       "\"All That Is or Ever Was or Ever Will Be\"  https://open.spotify.com/track/1Ig5PYAhZaCiCVAdIEcdAC  \n",
       "Gözleri Aşka Gülen                         https://open.spotify.com/track/4qzZm5EIdFurBpDieEmVc9  "
      ]
     },
     "execution_count": 59,
     "metadata": {},
     "output_type": "execute_result"
    }
   ],
   "source": [
    "allSongsUnique[(allSongsUnique['valence'] < duyguLevel + 0.05) & (allSongsUnique['valence'] > duyguLevel - 0.05)][['Artist', 'valence', 'URL']].sample(5)"
   ]
  }
 ],
 "metadata": {
  "kernelspec": {
   "display_name": "Python 3",
   "language": "python",
   "name": "python3"
  },
  "language_info": {
   "codemirror_mode": {
    "name": "ipython",
    "version": 3
   },
   "file_extension": ".py",
   "mimetype": "text/x-python",
   "name": "python",
   "nbconvert_exporter": "python",
   "pygments_lexer": "ipython3",
   "version": "3.6.3"
  }
 },
 "nbformat": 4,
 "nbformat_minor": 2
}
